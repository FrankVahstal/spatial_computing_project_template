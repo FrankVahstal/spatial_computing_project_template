{
 "cells": [
  {
   "cell_type": "markdown",
   "metadata": {},
   "source": [
    "# Sky View Factor"
   ]
  },
  {
   "cell_type": "markdown",
   "metadata": {},
   "source": [
    "## 0. Initialization\n",
    "Importing all necessary libraries and specifying the inputs"
   ]
  },
  {
   "cell_type": "code",
   "execution_count": 1,
   "metadata": {},
   "outputs": [],
   "source": [
    "import os\n",
    "import topogenesis as tg\n",
    "import pyvista as pv\n",
    "import trimesh as tm\n",
    "import numpy as np\n",
    "from ladybug.sunpath import Sunpath\n",
    "import pandas as pd"
   ]
  },
  {
   "cell_type": "markdown",
   "metadata": {},
   "source": [
    "## 1. Import Meshes (context + envelope)\n",
    "\n",
    "### 1.1. Load Meshes"
   ]
  },
  {
   "cell_type": "code",
   "execution_count": 2,
   "metadata": {},
   "outputs": [
    {
     "name": "stderr",
     "output_type": "stream",
     "text": [
      "faces have mixed data, using slow fallback!\n",
      "faces have mixed data, using slow fallback!\n"
     ]
    },
    {
     "name": "stdout",
     "output_type": "stream",
     "text": [
      "True\n",
      "False\n"
     ]
    }
   ],
   "source": [
    "envelope_path = os.path.relpath('../data/envelope.obj')\n",
    "context_path = os.path.relpath('../data/svf_streets.obj')\n",
    "\n",
    "# load the mesh from file\n",
    "envelope_mesh = tm.load(envelope_path)\n",
    "context_mesh = tm.load(context_path)\n",
    "\n",
    "# Check if the mesh is watertight\n",
    "print(envelope_mesh.is_watertight)\n",
    "print(context_mesh.is_watertight)"
   ]
  },
  {
   "cell_type": "markdown",
   "metadata": {},
   "source": [
    "### 1.2. Visualize Meshes (with pyvista)"
   ]
  },
  {
   "cell_type": "code",
   "execution_count": 3,
   "metadata": {},
   "outputs": [
    {
     "data": {
      "application/vnd.jupyter.widget-view+json": {
       "model_id": "32cc12d3b1944e3e97abc9bc190496ad",
       "version_major": 2,
       "version_minor": 0
      },
      "text/plain": [
       "ViewInteractiveWidget(height=768, layout=Layout(height='auto', width='100%'), width=1024)"
      ]
     },
     "metadata": {},
     "output_type": "display_data"
    },
    {
     "data": {
      "text/plain": [
       "[(286.75114176119666, 204.5425612672697, 271.0256798013578),\n",
       " (33.72546195983887, -48.483118534088135, 18.0),\n",
       " (0.0, 0.0, 1.0)]"
      ]
     },
     "execution_count": 3,
     "metadata": {},
     "output_type": "execute_result"
    }
   ],
   "source": [
    "# convert mesh to pv_mesh\n",
    "def tri_to_pv(tri_mesh):\n",
    "    faces = np.pad(tri_mesh.faces, ((0, 0),(1,0)), 'constant', constant_values=3)\n",
    "    pv_mesh = pv.PolyData(tri_mesh.vertices, faces)\n",
    "    return pv_mesh\n",
    "\n",
    "# initiating the plotter\n",
    "p = pv.Plotter(notebook=True)\n",
    "\n",
    "# adding the meshes\n",
    "p.add_mesh(tri_to_pv(envelope_mesh), color='#abd8ff')\n",
    "p.add_mesh(tri_to_pv(context_mesh), color='#aaaaaa')\n",
    "\n",
    "# plotting\n",
    "p.show(use_ipyvtk=True)"
   ]
  },
  {
   "cell_type": "markdown",
   "metadata": {},
   "source": [
    "## 2. Import Lattice (envelope)\n",
    "\n",
    "### 2.1. Load the Envelope Lattice"
   ]
  },
  {
   "cell_type": "code",
   "execution_count": 4,
   "metadata": {},
   "outputs": [],
   "source": [
    "# loading the lattice from csv\n",
    "lattice_path = os.path.relpath('../data/envelope_lowres_10.8_shadow.csv')\n",
    "envelope_lattice = tg.lattice_from_csv(lattice_path)"
   ]
  },
  {
   "cell_type": "markdown",
   "metadata": {},
   "source": [
    "### 2.2. Visualize the Context Mesh + Envelope Lattice"
   ]
  },
  {
   "cell_type": "code",
   "execution_count": 5,
   "metadata": {},
   "outputs": [
    {
     "data": {
      "application/vnd.jupyter.widget-view+json": {
       "model_id": "4e20631936f34f27a235347500fc0e4c",
       "version_major": 2,
       "version_minor": 0
      },
      "text/plain": [
       "ViewInteractiveWidget(height=768, layout=Layout(height='auto', width='100%'), width=1024)"
      ]
     },
     "metadata": {},
     "output_type": "display_data"
    },
    {
     "data": {
      "text/plain": [
       "[(288.14909054942024, 205.94051005549323, 270.6236281604279),\n",
       " (33.72546195983887, -48.483118534088135, 16.199999570846558),\n",
       " (0.0, 0.0, 1.0)]"
      ]
     },
     "execution_count": 5,
     "metadata": {},
     "output_type": "execute_result"
    }
   ],
   "source": [
    "# convert mesh to pv_mesh\n",
    "def tri_to_pv(tri_mesh):\n",
    "    faces = np.pad(tri_mesh.faces, ((0, 0),(1,0)), 'constant', constant_values=3)\n",
    "    pv_mesh = pv.PolyData(tri_mesh.vertices, faces)\n",
    "    return pv_mesh\n",
    "\n",
    "# initiating the plotter\n",
    "p = pv.Plotter(notebook=True)\n",
    "\n",
    "# fast visualization of the lattice\n",
    "envelope_lattice.fast_vis(p)\n",
    "\n",
    "# adding the meshes\n",
    "p.add_mesh(tri_to_pv(context_mesh), color='#aaaaaa')\n",
    "\n",
    "# plotting\n",
    "p.show(use_ipyvtk=True)"
   ]
  },
  {
   "cell_type": "markdown",
   "metadata": {},
   "source": [
    "## 3. Sky Vectors\n",
    "\n",
    "### 3.1. Compute Sky Vectors"
   ]
  },
  {
   "cell_type": "code",
   "execution_count": 6,
   "metadata": {
    "tags": []
   },
   "outputs": [
    {
     "name": "stdout",
     "output_type": "stream",
     "text": [
      "(305, 3)\n"
     ]
    }
   ],
   "source": [
    "sphere_mesh = tm.creation.icosphere(subdivisions=3, radius=1.0, color=None)\n",
    "sphere_vectors = np.copy(sphere_mesh.vertices)\n",
    "\n",
    "sky_vectors = []\n",
    "for v in sphere_vectors:\n",
    "    if v[2] > 0.0:\n",
    "        sky_vectors.append(v)\n",
    "\n",
    "sky_vectors = np.array(sky_vectors)\n",
    "print(sky_vectors.shape)"
   ]
  },
  {
   "cell_type": "code",
   "execution_count": 7,
   "metadata": {},
   "outputs": [],
   "source": [
    "full_lattice = envelope_lattice * 0 + 1"
   ]
  },
  {
   "cell_type": "code",
   "execution_count": 8,
   "metadata": {
    "scrolled": true
   },
   "outputs": [
    {
     "data": {
      "application/vnd.jupyter.widget-view+json": {
       "model_id": "c0c36aadfd19411e975b766148e7444c",
       "version_major": 2,
       "version_minor": 0
      },
      "text/plain": [
       "ViewInteractiveWidget(height=768, layout=Layout(height='auto', width='100%'), width=1024)"
      ]
     },
     "metadata": {},
     "output_type": "display_data"
    },
    {
     "data": {
      "text/plain": [
       "[(996.111517599679, 996.111517599679, 1143.4115175519953),\n",
       " (0.0, 0.0, 147.29999995231628),\n",
       " (0.0, 0.0, 1.0)]"
      ]
     },
     "execution_count": 8,
     "metadata": {},
     "output_type": "execute_result"
    }
   ],
   "source": [
    "# convert mesh to pv_mesh\n",
    "def tri_to_pv(tri_mesh):\n",
    "    faces = np.pad(tri_mesh.faces, ((0, 0),(1,0)), 'constant', constant_values=3)\n",
    "    pv_mesh = pv.PolyData(tri_mesh.vertices, faces)\n",
    "    return pv_mesh\n",
    "\n",
    "# Visualize the mesh using pyvista plotter\n",
    "#######\n",
    "\n",
    "# initiating the plotter\n",
    "p = pv.Plotter(notebook=True)\n",
    "\n",
    "# fast visualization of the lattice\n",
    "full_lattice.fast_vis(p)\n",
    "\n",
    "# adding the meshes\n",
    "p.add_mesh(tri_to_pv(sphere_mesh), color='#aaaaaa')\n",
    "p.add_mesh(tri_to_pv(context_mesh), color='#aaaaaa')\n",
    "\n",
    "# add the sun locations, color orange\n",
    "p.add_points( sky_vectors * 300, color='#0033ff')\n",
    "\n",
    "# plotting\n",
    "p.show(use_ipyvtk=True)"
   ]
  },
  {
   "cell_type": "markdown",
   "metadata": {},
   "source": [
    "## 4. Compute Intersection of Sky Rays with Context Mesh\n",
    "\n",
    "### 4.1. Preparing the List of Ray Directions and Origins"
   ]
  },
  {
   "cell_type": "code",
   "execution_count": 9,
   "metadata": {},
   "outputs": [
    {
     "name": "stdout",
     "output_type": "stream",
     "text": [
      "number of voxels to shoot rays from : (540, 3)\n",
      "number of rays per each voxel : (305, 3)\n",
      "number of rays to be shooted : (164700, 3)\n"
     ]
    }
   ],
   "source": [
    "# constructing the ray direction from the sky vectors in a numpy array\n",
    "sky_dirs = -np.array(sky_vectors)\n",
    "# exract the centroids of the envelope voxels\n",
    "\n",
    "\n",
    "\n",
    "vox_cens = full_lattice.centroids\n",
    "ray_dir = []\n",
    "ray_src = []\n",
    "for v_cen in vox_cens:\n",
    "    for s_dir in sky_dirs:\n",
    "        ray_dir.append(s_dir)\n",
    "        ray_src.append(v_cen)\n",
    "        \n",
    "# converting the list of directions and sources to numpy array\n",
    "ray_dir = np.array(ray_dir)\n",
    "ray_src = np.array(ray_src)\n",
    "\n",
    "print(\"number of voxels to shoot rays from :\",vox_cens.shape)\n",
    "print(\"number of rays per each voxel :\",sky_dirs.shape)\n",
    "print(\"number of rays to be shooted :\",ray_src.shape)"
   ]
  },
  {
   "cell_type": "markdown",
   "metadata": {},
   "source": [
    "### 4.2. Computing the Intersection"
   ]
  },
  {
   "cell_type": "code",
   "execution_count": 10,
   "metadata": {},
   "outputs": [
    {
     "name": "stderr",
     "output_type": "stream",
     "text": [
      "divide by zero encountered in true_divide\n",
      "invalid value encountered in subtract\n"
     ]
    }
   ],
   "source": [
    "# computing the intersections of rays with the context mesh\n",
    "tri_id, ray_id = context_mesh.ray.intersects_id(ray_origins=ray_src, ray_directions=ray_dir, multiple_hits=False)"
   ]
  },
  {
   "cell_type": "code",
   "execution_count": 11,
   "metadata": {},
   "outputs": [
    {
     "data": {
      "text/plain": [
       "28715"
      ]
     },
     "execution_count": 11,
     "metadata": {},
     "output_type": "execute_result"
    }
   ],
   "source": [
    "len(ray_id)"
   ]
  },
  {
   "cell_type": "markdown",
   "metadata": {},
   "source": [
    "## 5. Aggregate Simulation Result in the Sky Access Lattice\n",
    "\n",
    "### 5.1. Compute the percentage of time that each voxel sees the sun"
   ]
  },
  {
   "cell_type": "code",
   "execution_count": 12,
   "metadata": {
    "tags": []
   },
   "outputs": [
    {
     "name": "stdout",
     "output_type": "stream",
     "text": [
      "[0.         0.6557377  0.36393443 0.23606557 0.         0.63278689\n",
      " 0.37377049 0.26557377 0.         0.6295082  0.36721311 0.24262295\n",
      " 0.         0.6295082  0.38032787 0.28196721 0.         0.64590164\n",
      " 0.3704918  0.24262295 0.         0.66229508 0.38032787 0.23934426\n",
      " 0.         0.67213115 0.38360656 0.24918033 0.         0.61967213\n",
      " 0.33114754 0.19672131 0.         0.35737705 0.22622951 0.16065574\n",
      " 0.         0.56393443 0.33442623 0.22622951 0.         0.35409836\n",
      " 0.30819672 0.25245902 0.         0.3147541  0.27868852 0.21311475\n",
      " 0.         0.30491803 0.2852459  0.24262295 0.         0.30819672\n",
      " 0.26557377 0.21639344 0.         0.35409836 0.2852459  0.2295082\n",
      " 0.         0.38032787 0.30163934 0.23606557 0.         0.44918033\n",
      " 0.28852459 0.18688525 0.         0.34754098 0.20983607 0.16393443\n",
      " 0.         0.50491803 0.31803279 0.21967213 0.         0.22622951\n",
      " 0.26229508 0.23606557 0.         0.18360656 0.19672131 0.19672131\n",
      " 0.         0.14754098 0.20655738 0.21311475 0.         0.13770492\n",
      " 0.19672131 0.17704918 0.         0.16721311 0.21639344 0.19016393\n",
      " 0.         0.20655738 0.23934426 0.20655738 0.         0.31803279\n",
      " 0.23606557 0.17704918 0.         0.32459016 0.19344262 0.15409836\n",
      " 0.         0.47213115 0.30491803 0.20655738 0.         0.19344262\n",
      " 0.23606557 0.22295082 0.         0.1442623  0.17377049 0.16721311\n",
      " 0.         0.10491803 0.1704918  0.19016393 0.         0.08852459\n",
      " 0.15409836 0.15081967 0.         0.12131148 0.1704918  0.16393443\n",
      " 0.         0.15737705 0.21311475 0.19672131 0.         0.2852459\n",
      " 0.21967213 0.16393443 0.         0.3147541  0.18688525 0.15409836\n",
      " 0.         0.4557377  0.27540984 0.2        0.         0.18360656\n",
      " 0.21967213 0.20983607 0.         0.12786885 0.15409836 0.16065574\n",
      " 0.         0.0852459  0.14754098 0.18032787 0.         0.06557377\n",
      " 0.12786885 0.1442623  0.         0.09836066 0.1442623  0.15737705\n",
      " 0.         0.15081967 0.19672131 0.19016393 0.         0.27868852\n",
      " 0.20983607 0.15737705 0.         0.3147541  0.18688525 0.15737705\n",
      " 0.         0.43606557 0.26885246 0.19344262 0.         0.1704918\n",
      " 0.20655738 0.2        0.         0.1147541  0.1442623  0.14098361\n",
      " 0.         0.07868852 0.13442623 0.16721311 0.         0.06885246\n",
      " 0.12131148 0.13114754 0.         0.10163934 0.13770492 0.14098361\n",
      " 0.         0.1442623  0.18688525 0.18032787 0.         0.28852459\n",
      " 0.20655738 0.16393443 0.         0.33114754 0.19672131 0.16065574\n",
      " 0.         0.4295082  0.26229508 0.19672131 0.         0.1704918\n",
      " 0.19672131 0.19672131 0.         0.11147541 0.13770492 0.13442623\n",
      " 0.         0.07868852 0.12459016 0.16721311 0.         0.07213115\n",
      " 0.1147541  0.13114754 0.         0.10491803 0.13770492 0.13770492\n",
      " 0.         0.14754098 0.19344262 0.18360656 0.         0.30163934\n",
      " 0.21967213 0.1704918  0.         0.35737705 0.23278689 0.18360656\n",
      " 0.         0.42622951 0.25245902 0.18688525 0.         0.16721311\n",
      " 0.18360656 0.18032787 0.         0.1147541  0.12459016 0.13114754\n",
      " 0.         0.07868852 0.1147541  0.16393443 0.         0.08196721\n",
      " 0.10491803 0.12786885 0.         0.1147541  0.12786885 0.14098361\n",
      " 0.         0.16065574 0.19672131 0.19016393 0.         0.33114754\n",
      " 0.24262295 0.19016393 0.         0.4557377  0.2852459  0.21967213\n",
      " 0.         0.40327869 0.2557377  0.19016393 0.         0.15409836\n",
      " 0.18688525 0.18688525 0.         0.10819672 0.12459016 0.13442623\n",
      " 0.         0.06557377 0.1147541  0.1704918  0.         0.07868852\n",
      " 0.11147541 0.13442623 0.         0.10819672 0.13770492 0.1442623\n",
      " 0.         0.15409836 0.21967213 0.21311475 0.         0.35409836\n",
      " 0.27540984 0.21311475 0.         0.64918033 0.36393443 0.2557377\n",
      " 0.         0.39016393 0.24590164 0.18688525 0.         0.15409836\n",
      " 0.18032787 0.18360656 0.         0.10163934 0.13114754 0.13114754\n",
      " 0.         0.0557377  0.1147541  0.16065574 0.         0.07540984\n",
      " 0.1147541  0.13442623 0.         0.10819672 0.1442623  0.15409836\n",
      " 0.         0.16065574 0.22295082 0.21639344 0.         0.37704918\n",
      " 0.30491803 0.23606557 0.         0.71803279 0.41639344 0.2852459\n",
      " 0.         0.37704918 0.24262295 0.17704918 0.         0.14754098\n",
      " 0.17704918 0.18032787 0.         0.09836066 0.12786885 0.12786885\n",
      " 0.         0.06229508 0.1147541  0.1704918  0.         0.09180328\n",
      " 0.1147541  0.1442623  0.         0.11803279 0.14754098 0.16393443\n",
      " 0.         0.16393443 0.2295082  0.2295082  0.         0.39016393\n",
      " 0.3147541  0.24918033 0.         0.73442623 0.44262295 0.29836066\n",
      " 0.         0.36721311 0.24590164 0.18688525 0.         0.14098361\n",
      " 0.18688525 0.19016393 0.         0.09836066 0.14098361 0.13442623\n",
      " 0.         0.06229508 0.12786885 0.1704918  0.         0.09180328\n",
      " 0.12786885 0.15081967 0.         0.11803279 0.16065574 0.1704918\n",
      " 0.         0.16393443 0.24262295 0.23278689 0.         0.38688525\n",
      " 0.33114754 0.2557377  0.         0.72786885 0.44918033 0.31147541\n",
      " 0.         0.35737705 0.24918033 0.19672131 0.         0.15409836\n",
      " 0.19672131 0.2        0.         0.1147541  0.15737705 0.15737705\n",
      " 0.         0.07868852 0.1442623  0.19344262 0.         0.10491803\n",
      " 0.1442623  0.17377049 0.         0.13114754 0.17377049 0.18688525\n",
      " 0.         0.1704918  0.2557377  0.24590164 0.         0.39672131\n",
      " 0.33114754 0.26885246 0.         0.73114754 0.44262295 0.3147541\n",
      " 0.         0.38360656 0.26557377 0.19344262 0.         0.2\n",
      " 0.22295082 0.2        0.         0.16393443 0.19016393 0.15737705\n",
      " 0.         0.13114754 0.18032787 0.19344262 0.         0.15409836\n",
      " 0.18360656 0.17704918 0.         0.17377049 0.20983607 0.19016393\n",
      " 0.         0.21639344 0.27213115 0.24262295 0.         0.41639344\n",
      " 0.33442623 0.26229508 0.         0.72131148 0.41967213 0.29180328\n",
      " 0.         0.46229508 0.28852459 0.21311475 0.         0.34754098\n",
      " 0.26229508 0.23278689 0.         0.32459016 0.24590164 0.20327869\n",
      " 0.         0.30163934 0.24262295 0.24262295 0.         0.31803279\n",
      " 0.24590164 0.22622951 0.         0.33114754 0.26557377 0.2295082\n",
      " 0.         0.35409836 0.30491803 0.26885246 0.         0.47868852\n",
      " 0.33442623 0.2557377  0.         0.62295082 0.3704918  0.26557377]\n"
     ]
    }
   ],
   "source": [
    "# initializing the hits list full of zeros\n",
    "hits = [0]*len(ray_dir)\n",
    "# setting the rays that had an intersection to 1\n",
    "for id in ray_id:\n",
    "    hits[id] = 1\n",
    "\n",
    "sky_count = len(sky_dirs)\n",
    "vox_count = len(vox_cens)\n",
    "# initiating the list of ratio\n",
    "vox_sky_acc = []\n",
    "# iterate over the voxels\n",
    "for v_id in range(vox_count):\n",
    "    # counter for the intersection\n",
    "    int_count = 0\n",
    "    # iterate over the sky rays\n",
    "    for s_id in range(sky_count):\n",
    "        # computing the ray id from voxel id and sun id\n",
    "        r_id = v_id * sky_count + s_id\n",
    "\n",
    "        # summing the intersections\n",
    "        int_count += hits[r_id]\n",
    "    \n",
    "    # computing the percentage of the rays that DID NOT have \n",
    "    # an intersection \n",
    "    sky_access = int_count/sky_count\n",
    "\n",
    "    # add the ratio to list\n",
    "    vox_sky_acc.append(sky_access)\n",
    "\n",
    "\n",
    "hits = np.array(hits)\n",
    "vox_sky_acc = np.array(vox_sky_acc)\n",
    "\n",
    "print(vox_sky_acc)"
   ]
  },
  {
   "cell_type": "markdown",
   "metadata": {},
   "source": [
    "### 5.2. Store sky access information in a Lattice"
   ]
  },
  {
   "cell_type": "code",
   "execution_count": 13,
   "metadata": {
    "scrolled": true
   },
   "outputs": [
    {
     "name": "stdout",
     "output_type": "stream",
     "text": [
      "(15, 9, 4)\n"
     ]
    }
   ],
   "source": [
    "# getting the condition of all voxels: are they inside the envelop or not\n",
    "env_all_vox = full_lattice.flatten()\n",
    "\n",
    "# all voxels sky access\n",
    "all_vox_sky_acc = []\n",
    "\n",
    "# v_id: voxel id in the list of only interior voxels\n",
    "v_id = 0\n",
    "\n",
    "# for all the voxels, place the interiority condition of each voxel in \"vox_in\"\n",
    "for vox_in in env_all_vox:\n",
    "    # if the voxel was outside...\n",
    "    if vox_in == True:\n",
    "        # read its value of sky access and append it to the list of all voxel sky access\n",
    "        all_vox_sky_acc.append(vox_sky_acc[v_id])\n",
    "        # add one to the voxel id so the next time we read the next voxel\n",
    "        v_id += 1\n",
    "    # if the voxel was not inside... \n",
    "    else:\n",
    "        # add 0.0 for its sky access\n",
    "        all_vox_sky_acc.append(0.0)\n",
    "\n",
    "# convert to array\n",
    "skyacc_array = np.array(all_vox_sky_acc)\n",
    "\n",
    "# reshape to lattice shape\n",
    "skyacc_array = skyacc_array.reshape(envelope_lattice.shape)\n",
    "\n",
    "# convert to lattice\n",
    "skyacc_lattice = tg.to_lattice(skyacc_array, envelope_lattice)\n",
    "\n",
    "\n",
    "print(skyacc_lattice.shape)"
   ]
  },
  {
   "cell_type": "markdown",
   "metadata": {},
   "source": [
    "### 5.3. Visualize the sky access lattice"
   ]
  },
  {
   "cell_type": "code",
   "execution_count": 14,
   "metadata": {},
   "outputs": [
    {
     "data": {
      "application/vnd.jupyter.widget-view+json": {
       "model_id": "d9dedfc94ff44d4c83f4a9cadf21717d",
       "version_major": 2,
       "version_minor": 0
      },
      "text/plain": [
       "ViewInteractiveWidget(height=768, layout=Layout(height='auto', width='100%'), width=1024)"
      ]
     },
     "metadata": {},
     "output_type": "display_data"
    },
    {
     "data": {
      "text/plain": [
       "[(286.1450885910777, 203.9365080971507, 268.6196266312388),\n",
       " (33.72546195983887, -48.483118534088135, 16.200000000000003),\n",
       " (0.0, 0.0, 1.0)]"
      ]
     },
     "execution_count": 14,
     "metadata": {},
     "output_type": "execute_result"
    }
   ],
   "source": [
    "# initiating the plotter\n",
    "p = pv.Plotter(notebook=True)\n",
    "\n",
    "# Create the spatial reference\n",
    "grid = pv.UniformGrid()\n",
    "\n",
    "# Set the grid dimensions: shape because we want to inject our values\n",
    "grid.dimensions = skyacc_lattice.shape\n",
    "# The bottom left corner of the data set\n",
    "grid.origin = skyacc_lattice.minbound\n",
    "# These are the cell sizes along each axis\n",
    "grid.spacing = skyacc_lattice.unit\n",
    "\n",
    "# Add the data values to the cell data\n",
    "grid.point_arrays[\"Sky Access\"] = skyacc_lattice.flatten(order=\"F\")  # Flatten the Lattice\n",
    "\n",
    "# adding the meshes\n",
    "p.add_mesh(tri_to_pv(context_mesh), opacity=0.1, style='wireframe')\n",
    "    \n",
    "# adding the volume\n",
    "opacity = np.array([0,0.6,0.6,0.6,0.6,0.6,0.6])*1.5\n",
    "p.add_volume(grid, cmap=\"coolwarm\", clim=[0.0, 1.0],opacity=opacity)\n",
    "\n",
    "# plotting\n",
    "p.show(use_ipyvtk=True)"
   ]
  },
  {
   "cell_type": "markdown",
   "metadata": {},
   "source": [
    "## 6. Save Sun Access Lattice into a CSV"
   ]
  },
  {
   "cell_type": "code",
   "execution_count": 55,
   "metadata": {},
   "outputs": [],
   "source": [
    "# save the sky access latice to csv\n",
    "\n",
    "csv_path = os.path.relpath('../data/sky_access_lowres.csv')\n",
    "skyacc_lattice.to_csv(csv_path)"
   ]
  },
  {
   "cell_type": "code",
   "execution_count": 15,
   "metadata": {},
   "outputs": [],
   "source": [
    "from scipy.interpolate import RegularGridInterpolator"
   ]
  },
  {
   "cell_type": "code",
   "execution_count": 16,
   "metadata": {},
   "outputs": [
    {
     "name": "stdout",
     "output_type": "stream",
     "text": [
      "(43, 24, 11)\n"
     ]
    }
   ],
   "source": [
    "# loading the lattice from csv\n",
    "lattice_path = os.path.relpath('../data/envelope_highres_3.6_shadow.csv')\n",
    "highres_env_lattice = tg.lattice_from_csv(lattice_path)\n",
    "print(highres_env_lattice.shape)"
   ]
  },
  {
   "cell_type": "code",
   "execution_count": 17,
   "metadata": {},
   "outputs": [],
   "source": [
    "def interpolate(low_skyacc_lattice, env_lattice):\n",
    "    # line spaces\n",
    "    x_space = np.linspace(low_skyacc_lattice.minbound[0], low_skyacc_lattice.maxbound[0],low_skyacc_lattice.shape[0])\n",
    "    y_space = np.linspace(low_skyacc_lattice.minbound[1], low_skyacc_lattice.maxbound[1],low_skyacc_lattice.shape[1])\n",
    "    z_space = np.linspace(low_skyacc_lattice.minbound[2], low_skyacc_lattice.maxbound[2],low_skyacc_lattice.shape[2])\n",
    "\n",
    "    # interpolation function\n",
    "    interpolating_function = RegularGridInterpolator((x_space, y_space, z_space), low_skyacc_lattice, bounds_error=False, fill_value=None)\n",
    "\n",
    "    # high_res lattice\n",
    "    full_lattice = env_lattice + 1\n",
    "\n",
    "    # sample points\n",
    "    sample_points = full_lattice.centroids\n",
    "\n",
    "    # interpolation\n",
    "    interpolated_values = interpolating_function(sample_points)\n",
    "\n",
    "    # lattice construction\n",
    "    skyacc_lattice = tg.to_lattice(interpolated_values.reshape(env_lattice.shape), env_lattice)\n",
    "\n",
    "    # nulling the unavailable cells\n",
    "    skyacc_lattice *= env_lattice\n",
    "    \n",
    "    return skyacc_lattice\n",
    "\n",
    "highres_skyacc_lattice = interpolate(skyacc_lattice,highres_env_lattice)"
   ]
  },
  {
   "cell_type": "code",
   "execution_count": 18,
   "metadata": {},
   "outputs": [
    {
     "data": {
      "application/vnd.jupyter.widget-view+json": {
       "model_id": "d38010996ee84e26b84fe546d4c76fcb",
       "version_major": 2,
       "version_minor": 0
      },
      "text/plain": [
       "ViewInteractiveWidget(height=768, layout=Layout(height='auto', width='100%'), width=1024)"
      ]
     },
     "metadata": {},
     "output_type": "display_data"
    },
    {
     "data": {
      "text/plain": [
       "[(232.42058333192392, 140.62058333192388, 214.4205833319239),\n",
       " (36.000000000000014, -55.800000000000004, 18.0),\n",
       " (0.0, 0.0, 1.0)]"
      ]
     },
     "execution_count": 18,
     "metadata": {},
     "output_type": "execute_result"
    }
   ],
   "source": [
    "# convert mesh to pv_mesh\n",
    "def tri_to_pv(tri_mesh):\n",
    "    faces = np.pad(tri_mesh.faces, ((0, 0),(1,0)), 'constant', constant_values=3)\n",
    "    pv_mesh = pv.PolyData(tri_mesh.vertices, faces)\n",
    "    return pv_mesh\n",
    "\n",
    "base_lattice = highres_skyacc_lattice\n",
    "# initiating the plotter\n",
    "p = pv.Plotter(notebook=True)\n",
    "\n",
    "# Create the spatial reference\n",
    "grid = pv.UniformGrid()\n",
    "\n",
    "# Set the grid dimensions: shape because we want to inject our values\n",
    "grid.dimensions = base_lattice.shape\n",
    "# The bottom left corner of the data set\n",
    "grid.origin = base_lattice.minbound\n",
    "# These are the cell sizes along each axis\n",
    "grid.spacing = base_lattice.unit\n",
    "\n",
    "# Add the data values to the cell data\n",
    "grid.point_arrays[\"Sky Access\"] = base_lattice.flatten(order=\"F\")  # Flatten the Lattice\n",
    "\n",
    "# adding the meshes\n",
    "# p.add_mesh(tri_to_pv(context_mesh), opacity=0.1, style='wireframe')\n",
    "    \n",
    "# adding the volume\n",
    "opacity = np.array([0,0.6,0.6,0.6,0.6,0.6,0.6])\n",
    "p.add_volume(grid, cmap=\"coolwarm\", clim=[0.0, 1.0],opacity=opacity)\n",
    "\n",
    "# plotting\n",
    "p.show(use_ipyvtk=True)"
   ]
  },
  {
   "cell_type": "code",
   "execution_count": 60,
   "metadata": {},
   "outputs": [],
   "source": [
    "# save the sky access latice to csv\n",
    "csv_path = os.path.relpath('../data/sky_access_highres.csv')\n",
    "highres_skyacc_lattice.to_csv(csv_path)"
   ]
  },
  {
   "cell_type": "markdown",
   "metadata": {},
   "source": [
    "## 7. Envelope selection"
   ]
  },
  {
   "cell_type": "code",
   "execution_count": 19,
   "metadata": {},
   "outputs": [],
   "source": [
    "# extra import function\n",
    "def lattice_from_csv(file_path):\n",
    "    # read metadata\n",
    "    meta_df = pd.read_csv(file_path, nrows=3)\n",
    "\n",
    "    shape = np.array(meta_df['shape'])\n",
    "    unit = np.array(meta_df['unit'])\n",
    "    minbound = np.array(meta_df['minbound'])\n",
    "\n",
    "    # read lattice\n",
    "    lattice_df = pd.read_csv(file_path, skiprows=5)\n",
    "\n",
    "    # create the buffer\n",
    "    buffer = np.array(lattice_df['value']).reshape(shape)\n",
    "\n",
    "    # create the lattice\n",
    "    l = tg.to_lattice(buffer, minbound=minbound, unit=unit)\n",
    "\n",
    "    return l"
   ]
  },
  {
   "cell_type": "code",
   "execution_count": 20,
   "metadata": {},
   "outputs": [],
   "source": [
    "# loading the lattice from csv\n",
    "sky_acc_path = os.path.relpath('../data/sky_access_highres.csv')\n",
    "sky_acc_lattice = lattice_from_csv(sky_acc_path)"
   ]
  },
  {
   "cell_type": "markdown",
   "metadata": {},
   "source": [
    "### 7.1. Visualizing the selection"
   ]
  },
  {
   "cell_type": "code",
   "execution_count": 21,
   "metadata": {},
   "outputs": [
    {
     "data": {
      "application/vnd.jupyter.widget-view+json": {
       "model_id": "7410994f182747a0966929cea7a9382d",
       "version_major": 2,
       "version_minor": 0
      },
      "text/plain": [
       "ViewInteractiveWidget(height=768, layout=Layout(height='auto', width='100%'), width=1024)"
      ]
     },
     "metadata": {},
     "output_type": "display_data"
    },
    {
     "data": {
      "text/plain": [
       "[(228.1888554793267, 134.58885319050833, 210.18885392960593),\n",
       " (36.00000190734863, -57.60000038146973, 18.00000035762787),\n",
       " (0.0, 0.0, 1.0)]"
      ]
     },
     "execution_count": 21,
     "metadata": {},
     "output_type": "execute_result"
    }
   ],
   "source": [
    "p = pv.Plotter(notebook=True)\n",
    "\n",
    "base_lattice = sky_acc_lattice\n",
    "\n",
    "# Set the grid dimensions: shape + 1 because we want to inject our values on the CELL data\n",
    "grid = pv.UniformGrid()\n",
    "grid.dimensions = np.array(base_lattice.shape) + 1\n",
    "# The bottom left corner of the data set\n",
    "grid.origin = base_lattice.minbound - base_lattice.unit * 0.5\n",
    "# These are the cell sizes along each axis\n",
    "grid.spacing = base_lattice.unit \n",
    "\n",
    "def create_mesh(value):\n",
    "\n",
    "    lattice = np.copy(sky_acc_lattice)\n",
    "    lattice[sky_acc_lattice > value] *= 0.0\n",
    "    # Add the data values to the cell data\n",
    "    grid.cell_arrays[\"Agents\"] = lattice.flatten(order=\"F\")  # Flatten the array!\n",
    "    # filtering the voxels\n",
    "    threshed = grid.threshold([0.001, 1.0])\n",
    "    # adding the voxels\n",
    "    p.add_mesh(threshed, name='sphere', show_edges=True, opacity=1.0, show_scalar_bar=False, clim=[0.0, 1.0])\n",
    "\n",
    "    return\n",
    "\n",
    "p.add_slider_widget(create_mesh, [0, 1], title='', value=1.0, event_type=\"always\", style=\"classic\", pointa=(0.1, 0.1), pointb=(0.9, 0.1))\n",
    "p.show(use_ipyvtk=True)"
   ]
  },
  {
   "cell_type": "markdown",
   "metadata": {},
   "source": [
    "### 7.2. Generating an envelope based on the selection"
   ]
  },
  {
   "cell_type": "code",
   "execution_count": 23,
   "metadata": {},
   "outputs": [],
   "source": [
    "lower_bound = 0.01\n",
    "upper_bound = 0.3\n",
    "lower_condition = sky_acc_lattice > lower_bound\n",
    "upper_condition = sky_acc_lattice < upper_bound\n",
    "new_avail_lattice = lower_condition * upper_condition"
   ]
  },
  {
   "cell_type": "markdown",
   "metadata": {},
   "source": [
    "### 7.3. Visualize the new available lattice"
   ]
  },
  {
   "cell_type": "code",
   "execution_count": 24,
   "metadata": {},
   "outputs": [
    {
     "data": {
      "application/vnd.jupyter.widget-view+json": {
       "model_id": "fe5a1c16540748d29c017b84bb2b0bf3",
       "version_major": 2,
       "version_minor": 0
      },
      "text/plain": [
       "ViewInteractiveWidget(height=768, layout=Layout(height='auto', width='100%'), width=1024)"
      ]
     },
     "metadata": {},
     "output_type": "display_data"
    },
    {
     "data": {
      "text/plain": [
       "[(238.60252434688636, 146.8025241561515, 220.6025239892585),\n",
       " (36.0, -55.80000019073486, 17.99999964237213),\n",
       " (0.0, 0.0, 1.0)]"
      ]
     },
     "execution_count": 24,
     "metadata": {},
     "output_type": "execute_result"
    }
   ],
   "source": [
    "p = pv.Plotter(notebook=True)\n",
    "\n",
    "# adding the avilability lattice\n",
    "new_avail_lattice.fast_vis(p)\n",
    "\n",
    "p.show(use_ipyvtk=True)"
   ]
  },
  {
   "cell_type": "markdown",
   "metadata": {},
   "source": [
    "### 7.4. Save new envelope to CSV"
   ]
  },
  {
   "cell_type": "code",
   "execution_count": 68,
   "metadata": {},
   "outputs": [],
   "source": [
    "csv_path = os.path.relpath('../data/envelope_highres_3.6_svf.csv')\n",
    "new_avail_lattice.to_csv(csv_path)"
   ]
  },
  {
   "cell_type": "markdown",
   "metadata": {},
   "source": [
    "### Credits"
   ]
  },
  {
   "cell_type": "code",
   "execution_count": null,
   "metadata": {},
   "outputs": [],
   "source": [
    "__author__ = \"Shervin Azadi and Pirouz Nourian\"\n",
    "__license__ = \"MIT\"\n",
    "__version__ = \"1.0\"\n",
    "__url__ = \"https://github.com/shervinazadi/spatial_computing_workshops\"\n",
    "__summary__ = \"Spatial Computing Design Studio Workshop on Solar Envelope\""
   ]
  }
 ],
 "metadata": {
  "kernelspec": {
   "display_name": "Python 3",
   "language": "python",
   "name": "python3"
  },
  "language_info": {
   "codemirror_mode": {
    "name": "ipython",
    "version": 3
   },
   "file_extension": ".py",
   "mimetype": "text/x-python",
   "name": "python",
   "nbconvert_exporter": "python",
   "pygments_lexer": "ipython3",
   "version": "3.8.4"
  }
 },
 "nbformat": 4,
 "nbformat_minor": 2
}
