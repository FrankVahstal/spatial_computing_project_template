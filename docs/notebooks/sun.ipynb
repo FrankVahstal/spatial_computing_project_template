{
 "cells": [
  {
   "cell_type": "markdown",
   "metadata": {},
   "source": [
    "# Sun access "
   ]
  },
  {
   "cell_type": "markdown",
   "metadata": {},
   "source": [
    "## 0. Initialization\n",
    "Importing all necessary libraries and specifying the inputs"
   ]
  },
  {
   "cell_type": "code",
   "execution_count": 1,
   "metadata": {},
   "outputs": [],
   "source": [
    "import os\n",
    "import topogenesis as tg\n",
    "import pyvista as pv\n",
    "import trimesh as tm\n",
    "import numpy as np\n",
    "from ladybug.sunpath import Sunpath\n",
    "import pandas as pd"
   ]
  },
  {
   "cell_type": "markdown",
   "metadata": {},
   "source": [
    "## 1. Import Meshes (context + envelope)\n",
    "\n",
    "### 1.1. Load Meshes"
   ]
  },
  {
   "cell_type": "code",
   "execution_count": 2,
   "metadata": {},
   "outputs": [
    {
     "name": "stderr",
     "output_type": "stream",
     "text": [
      "faces have mixed data, using slow fallback!\n"
     ]
    },
    {
     "name": "stdout",
     "output_type": "stream",
     "text": [
      "True\n",
      "False\n"
     ]
    }
   ],
   "source": [
    "envelope_path = os.path.relpath('../data/envelope.obj')\n",
    "context_path = os.path.relpath('../data/immediate_context.obj')\n",
    "\n",
    "# load the mesh from file\n",
    "envelope_mesh = tm.load(envelope_path)\n",
    "context_mesh = tm.load(context_path)\n",
    "\n",
    "# Check if the mesh is watertight\n",
    "print(envelope_mesh.is_watertight)\n",
    "print(context_mesh.is_watertight)"
   ]
  },
  {
   "cell_type": "markdown",
   "metadata": {},
   "source": [
    "### 1.2. Visualize Meshes (with pyvista)"
   ]
  },
  {
   "cell_type": "code",
   "execution_count": 3,
   "metadata": {},
   "outputs": [
    {
     "data": {
      "application/vnd.jupyter.widget-view+json": {
       "model_id": "c67e9ed2c0654cb8a94e16133e54a4f0",
       "version_major": 2,
       "version_minor": 0
      },
      "text/plain": [
       "ViewInteractiveWidget(height=768, layout=Layout(height='auto', width='100%'), width=1024)"
      ]
     },
     "metadata": {},
     "output_type": "display_data"
    },
    {
     "data": {
      "text/plain": [
       "[(785.6075686833789, 708.1911636833788, 743.2184808333789),\n",
       " (65.08283250000001, -12.333572500000002, 22.69374465),\n",
       " (0.0, 0.0, 1.0)]"
      ]
     },
     "execution_count": 3,
     "metadata": {},
     "output_type": "execute_result"
    }
   ],
   "source": [
    "# convert mesh to pv_mesh\n",
    "def tri_to_pv(tri_mesh):\n",
    "    faces = np.pad(tri_mesh.faces, ((0, 0),(1,0)), 'constant', constant_values=3)\n",
    "    pv_mesh = pv.PolyData(tri_mesh.vertices, faces)\n",
    "    return pv_mesh\n",
    "\n",
    "# initiating the plotter\n",
    "p = pv.Plotter(notebook=True)\n",
    "\n",
    "# adding the meshes\n",
    "p.add_mesh(tri_to_pv(envelope_mesh), color='#abd8ff')\n",
    "p.add_mesh(tri_to_pv(context_mesh), color='#aaaaaa')\n",
    "\n",
    "# plotting\n",
    "p.show(use_ipyvtk=True)"
   ]
  },
  {
   "cell_type": "markdown",
   "metadata": {},
   "source": [
    "## 2. Import Lattice (envelope)\n",
    "\n",
    "### 2.1. Load the Envelope Lattice"
   ]
  },
  {
   "cell_type": "code",
   "execution_count": 4,
   "metadata": {},
   "outputs": [],
   "source": [
    "# loading the lattice from csv\n",
    "lattice_path = os.path.relpath('../data/voxelized_envelope_lowres.csv')\n",
    "envelope_lattice = tg.lattice_from_csv(lattice_path)"
   ]
  },
  {
   "cell_type": "markdown",
   "metadata": {},
   "source": [
    "### 2.2. Visualize the Context Mesh + Envelope Lattice"
   ]
  },
  {
   "cell_type": "code",
   "execution_count": 5,
   "metadata": {},
   "outputs": [
    {
     "data": {
      "application/vnd.jupyter.widget-view+json": {
       "model_id": "572acbd78b8d460180698f4206955d80",
       "version_major": 2,
       "version_minor": 0
      },
      "text/plain": [
       "ViewInteractiveWidget(height=768, layout=Layout(height='auto', width='100%'), width=1024)"
      ]
     },
     "metadata": {},
     "output_type": "display_data"
    },
    {
     "data": {
      "text/plain": [
       "[(786.0557649294859, 708.6393599294859, 740.9666770318022),\n",
       " (65.08283250000001, -12.333572500000002, 19.993744602316283),\n",
       " (0.0, 0.0, 1.0)]"
      ]
     },
     "execution_count": 5,
     "metadata": {},
     "output_type": "execute_result"
    }
   ],
   "source": [
    "# convert mesh to pv_mesh\n",
    "def tri_to_pv(tri_mesh):\n",
    "    faces = np.pad(tri_mesh.faces, ((0, 0),(1,0)), 'constant', constant_values=3)\n",
    "    pv_mesh = pv.PolyData(tri_mesh.vertices, faces)\n",
    "    return pv_mesh\n",
    "\n",
    "# initiating the plotter\n",
    "p = pv.Plotter(notebook=True)\n",
    "\n",
    "# fast visualization of the lattice\n",
    "envelope_lattice.fast_vis(p)\n",
    "\n",
    "# adding the meshes\n",
    "p.add_mesh(tri_to_pv(context_mesh), color='#aaaaaa')\n",
    "\n",
    "# plotting\n",
    "p.show(use_ipyvtk=True)"
   ]
  },
  {
   "cell_type": "markdown",
   "metadata": {},
   "source": [
    "## 3. Sun Vectors\n",
    "\n",
    "### 3.1. Compute Sun Vectors"
   ]
  },
  {
   "cell_type": "code",
   "execution_count": 6,
   "metadata": {
    "tags": []
   },
   "outputs": [
    {
     "name": "stdout",
     "output_type": "stream",
     "text": [
      "(154, 3)\n"
     ]
    }
   ],
   "source": [
    "# initiate sunpath\n",
    "sp = Sunpath(longitude=4.3571, latitude=52.0116)\n",
    "\n",
    "# define sun hours : A list of hours of the year for each sun vector\n",
    "# there are 8760 hours in a year, so the following integers refer to specific hours throughout the year\n",
    "hoys = []\n",
    "sun_vectors = []\n",
    "day_multiples = 30\n",
    "for d in range(365):\n",
    "    if d%day_multiples==0:\n",
    "        for h in range(24):\n",
    "            i = d*24 + h\n",
    "            # compute the sun object\n",
    "            sun = sp.calculate_sun_from_hoy(i)\n",
    "            # extract the sun vector\n",
    "            sun_vector = sun.sun_vector.to_array()\n",
    "            # apparantly, if the Z component of sun vector is positive, \n",
    "            # it is under the horizon \n",
    "            if sun_vector[2] < 0.0:\n",
    "                hoys.append(i)\n",
    "                sun_vectors.append(sun_vector)\n",
    "                \n",
    "sun_vectors = np.array(sun_vectors)\n",
    "# compute the rotation matrix \n",
    "Rz = tm.transformations.rotation_matrix(np.radians(36.324), [0,0,1])\n",
    "# Rotate the sun vectors to match the site rotation\n",
    "sun_vectors = tm.transform_points(sun_vectors, Rz)\n",
    "print(sun_vectors.shape)"
   ]
  },
  {
   "cell_type": "code",
   "execution_count": 7,
   "metadata": {},
   "outputs": [],
   "source": [
    "full_lattice = envelope_lattice * 0 + 1"
   ]
  },
  {
   "cell_type": "code",
   "execution_count": 8,
   "metadata": {
    "scrolled": true
   },
   "outputs": [
    {
     "data": {
      "application/vnd.jupyter.widget-view+json": {
       "model_id": "9fd84733e5ed4fff9ceac775da4601e2",
       "version_major": 2,
       "version_minor": 0
      },
      "text/plain": [
       "ViewInteractiveWidget(height=768, layout=Layout(height='auto', width='100%'), width=1024)"
      ]
     },
     "metadata": {},
     "output_type": "display_data"
    },
    {
     "data": {
      "text/plain": [
       "[(987.1796013214682, 980.6322311914033, 1113.9398701989232),\n",
       " (1.8922800195791183, -4.65509011048573, 128.65254889703414),\n",
       " (0.0, 0.0, 1.0)]"
      ]
     },
     "execution_count": 8,
     "metadata": {},
     "output_type": "execute_result"
    }
   ],
   "source": [
    "# convert mesh to pv_mesh\n",
    "def tri_to_pv(tri_mesh):\n",
    "    faces = np.pad(tri_mesh.faces, ((0, 0),(1,0)), 'constant', constant_values=3)\n",
    "    pv_mesh = pv.PolyData(tri_mesh.vertices, faces)\n",
    "    return pv_mesh\n",
    "\n",
    "# Visualize the mesh using pyvista plotter\n",
    "#######\n",
    "\n",
    "# initiating the plotter\n",
    "p = pv.Plotter(notebook=True)\n",
    "\n",
    "# fast visualization of the lattice\n",
    "full_lattice.fast_vis(p)\n",
    "\n",
    "# adding the meshes\n",
    "p.add_mesh(tri_to_pv(context_mesh), color='#aaaaaa')\n",
    "\n",
    "# add the sun locations, color orange\n",
    "p.add_points( - sun_vectors * 300, color='#ffa500')\n",
    "\n",
    "# plotting\n",
    "p.show(use_ipyvtk=True)"
   ]
  },
  {
   "cell_type": "markdown",
   "metadata": {},
   "source": [
    "## 4. Compute Intersection of Sun Rays with Context Mesh\n",
    "\n",
    "### 4.1. Preparing the List of Ray Directions and Origins"
   ]
  },
  {
   "cell_type": "code",
   "execution_count": 9,
   "metadata": {},
   "outputs": [
    {
     "name": "stdout",
     "output_type": "stream",
     "text": [
      "number of voxels to shoot rays from : (540, 3)\n",
      "number of rays per each voxel : (154, 3)\n",
      "number of rays to be shooted : (83160, 3)\n"
     ]
    }
   ],
   "source": [
    "# constructing the sun direction from the sun vectors in a numpy array\n",
    "sun_dirs = -np.array(sun_vectors)\n",
    "# exract the centroids of the envelope voxels\n",
    "\n",
    "vox_cens = full_lattice.centroids\n",
    "# next step we need to shoot in all of the sun directions from all of the voxels, todo so, we need repeat the sun direction for the number of voxels to construct the ray_dir (which is the list of all ray directions). We need to repeat the voxels for the \n",
    "ray_dir = []\n",
    "ray_src = []\n",
    "for v_cen in vox_cens:\n",
    "    for s_dir in sun_dirs:\n",
    "        ray_dir.append(s_dir)\n",
    "        ray_src.append(v_cen)\n",
    "# converting the list of directions and sources to numpy array\n",
    "ray_dir = np.array(ray_dir)\n",
    "ray_src = np.array(ray_src)\n",
    "\n",
    "print(\"number of voxels to shoot rays from :\",vox_cens.shape)\n",
    "print(\"number of rays per each voxel :\",sun_dirs.shape)\n",
    "print(\"number of rays to be shooted :\",ray_src.shape)"
   ]
  },
  {
   "cell_type": "markdown",
   "metadata": {},
   "source": [
    "### 4.2. Computing the Intersection"
   ]
  },
  {
   "cell_type": "code",
   "execution_count": 10,
   "metadata": {},
   "outputs": [],
   "source": [
    "# computing the intersections of rays with the context mesh\n",
    "tri_id, ray_id = context_mesh.ray.intersects_id(ray_origins=ray_src, ray_directions=ray_dir, multiple_hits=False)"
   ]
  },
  {
   "cell_type": "markdown",
   "metadata": {},
   "source": [
    "## 5. Aggregate Simulation Result in the Sun Access Lattice\n",
    "\n",
    "### 5.1. Compute the percentage of time that each voxel sees the sun"
   ]
  },
  {
   "cell_type": "code",
   "execution_count": 11,
   "metadata": {
    "tags": []
   },
   "outputs": [
    {
     "name": "stdout",
     "output_type": "stream",
     "text": [
      "[0.57142857 0.7012987  0.85714286 0.96753247 0.61038961 0.74025974\n",
      " 0.9025974  0.98051948 0.67532468 0.77922078 0.92857143 0.99350649\n",
      " 0.67532468 0.80519481 0.94805195 1.         0.65584416 0.81168831\n",
      " 0.96753247 1.         0.66233766 0.81168831 0.96753247 1.\n",
      " 0.65584416 0.81818182 0.96753247 1.         0.6038961  0.81168831\n",
      " 0.98701299 1.         0.46753247 0.7987013  0.99350649 1.\n",
      " 0.51948052 0.55194805 0.82467532 0.94805195 0.48701299 0.64285714\n",
      " 0.87012987 0.94805195 0.64935065 0.75974026 0.9025974  0.98051948\n",
      " 0.66883117 0.77922078 0.92857143 0.98701299 0.68831169 0.7987013\n",
      " 0.94805195 0.98701299 0.68831169 0.83766234 0.94805195 0.98701299\n",
      " 0.69480519 0.82467532 0.94805195 0.98701299 0.66883117 0.81168831\n",
      " 0.98051948 0.99350649 0.24675325 0.         0.99350649 1.\n",
      " 0.54545455 0.68831169 0.81818182 0.93506494 0.52597403 0.62337662\n",
      " 0.85714286 0.93506494 0.6038961  0.75974026 0.88961039 0.96753247\n",
      " 0.62337662 0.75974026 0.91558442 0.98051948 0.67532468 0.78571429\n",
      " 0.94155844 0.98051948 0.68181818 0.80519481 0.94155844 0.98051948\n",
      " 0.68831169 0.83766234 0.94155844 0.98051948 0.67532468 0.85064935\n",
      " 0.96753247 0.98051948 0.5        0.61038961 0.97402597 0.99350649\n",
      " 0.54545455 0.67532468 0.79220779 0.92207792 0.59090909 0.68831169\n",
      " 0.84415584 0.92857143 0.58441558 0.75974026 0.88311688 0.96753247\n",
      " 0.62337662 0.78571429 0.90909091 0.97402597 0.66233766 0.78571429\n",
      " 0.92857143 0.97402597 0.68181818 0.80519481 0.93506494 0.98051948\n",
      " 0.68181818 0.83116883 0.94805195 0.98051948 0.68181818 0.85714286\n",
      " 0.96753247 0.98051948 0.42857143 0.82467532 0.97402597 0.99350649\n",
      " 0.54545455 0.67532468 0.79220779 0.92207792 0.61038961 0.7012987\n",
      " 0.83116883 0.92857143 0.61688312 0.75324675 0.87012987 0.96103896\n",
      " 0.64285714 0.77922078 0.88961039 0.96103896 0.66883117 0.79220779\n",
      " 0.92207792 0.97402597 0.68831169 0.81168831 0.92857143 0.97402597\n",
      " 0.67532468 0.84415584 0.94155844 0.97402597 0.68181818 0.85064935\n",
      " 0.96103896 0.97402597 0.38961039 0.83766234 0.96753247 0.98701299\n",
      " 0.53896104 0.68181818 0.77272727 0.91558442 0.58441558 0.7012987\n",
      " 0.83766234 0.93506494 0.5974026  0.73376623 0.86363636 0.95454545\n",
      " 0.64935065 0.77922078 0.8961039  0.96103896 0.67532468 0.7987013\n",
      " 0.92207792 0.96753247 0.69480519 0.7987013  0.92207792 0.96753247\n",
      " 0.68181818 0.83116883 0.94155844 0.97402597 0.66883117 0.83116883\n",
      " 0.96103896 0.97402597 0.6038961  0.82467532 0.96753247 0.99350649\n",
      " 0.53896104 0.68181818 0.76623377 0.91558442 0.61038961 0.68831169\n",
      " 0.82467532 0.92857143 0.62337662 0.74675325 0.86363636 0.94805195\n",
      " 0.66883117 0.77272727 0.88961039 0.95454545 0.68831169 0.80519481\n",
      " 0.92207792 0.96753247 0.68831169 0.81818182 0.92207792 0.96753247\n",
      " 0.69480519 0.83116883 0.93506494 0.96753247 0.7012987  0.85714286\n",
      " 0.95454545 0.96753247 0.53896104 0.82467532 0.96103896 0.98701299\n",
      " 0.54545455 0.68181818 0.77272727 0.91558442 0.59090909 0.7012987\n",
      " 0.82467532 0.93506494 0.64285714 0.73376623 0.85064935 0.94805195\n",
      " 0.65584416 0.76623377 0.88311688 0.94805195 0.67532468 0.7987013\n",
      " 0.91558442 0.96103896 0.68831169 0.81818182 0.91558442 0.96103896\n",
      " 0.7012987  0.82467532 0.93506494 0.96753247 0.74025974 0.85714286\n",
      " 0.95454545 0.96753247 0.62337662 0.83766234 0.96103896 0.98701299\n",
      " 0.54545455 0.67532468 0.77922078 0.90909091 0.57792208 0.72727273\n",
      " 0.83116883 0.92857143 0.63636364 0.73376623 0.85064935 0.94805195\n",
      " 0.68181818 0.77272727 0.88311688 0.94805195 0.66883117 0.81168831\n",
      " 0.9025974  0.94805195 0.68831169 0.81168831 0.91558442 0.96103896\n",
      " 0.71428571 0.81168831 0.92857143 0.96753247 0.72077922 0.87662338\n",
      " 0.96103896 0.97402597 0.73376623 0.85064935 0.96103896 0.98701299\n",
      " 0.55194805 0.66883117 0.77272727 0.90909091 0.59090909 0.72727273\n",
      " 0.83116883 0.92857143 0.61688312 0.72727273 0.85714286 0.95454545\n",
      " 0.65584416 0.76623377 0.88961039 0.94805195 0.64285714 0.79220779\n",
      " 0.9025974  0.94805195 0.7012987  0.80519481 0.8961039  0.96103896\n",
      " 0.72077922 0.82467532 0.91558442 0.96753247 0.74025974 0.85714286\n",
      " 0.95454545 0.96753247 0.72727273 0.85714286 0.95454545 0.98051948\n",
      " 0.55194805 0.68831169 0.77272727 0.90909091 0.59090909 0.7012987\n",
      " 0.83116883 0.92857143 0.61038961 0.70779221 0.85064935 0.94805195\n",
      " 0.61038961 0.76623377 0.8961039  0.94805195 0.63636364 0.77922078\n",
      " 0.88961039 0.95454545 0.68831169 0.7987013  0.8961039  0.95454545\n",
      " 0.69480519 0.81168831 0.91558442 0.96103896 0.72077922 0.84415584\n",
      " 0.95454545 0.97402597 0.72727273 0.84415584 0.95454545 0.98051948\n",
      " 0.55194805 0.68831169 0.77922078 0.9025974  0.55844156 0.7012987\n",
      " 0.83116883 0.92857143 0.59090909 0.73376623 0.85064935 0.94155844\n",
      " 0.62987013 0.75974026 0.88311688 0.94155844 0.65584416 0.76623377\n",
      " 0.88961039 0.95454545 0.68181818 0.79220779 0.8961039  0.95454545\n",
      " 0.66883117 0.82467532 0.92207792 0.96103896 0.72727273 0.82467532\n",
      " 0.92857143 0.96753247 0.72077922 0.85064935 0.95454545 0.98701299\n",
      " 0.54545455 0.67532468 0.80519481 0.90909091 0.52597403 0.68831169\n",
      " 0.82467532 0.93506494 0.57142857 0.72727273 0.85714286 0.94155844\n",
      " 0.6038961  0.75974026 0.88961039 0.94155844 0.62987013 0.77922078\n",
      " 0.88961039 0.95454545 0.64285714 0.81168831 0.88961039 0.94805195\n",
      " 0.64935065 0.83766234 0.92207792 0.96103896 0.66233766 0.81818182\n",
      " 0.92857143 0.96753247 0.7012987  0.81818182 0.93506494 0.98701299\n",
      " 0.37012987 0.38961039 0.7987013  0.8961039  0.46753247 0.68831169\n",
      " 0.81818182 0.93506494 0.55194805 0.69480519 0.85714286 0.94155844\n",
      " 0.57792208 0.70779221 0.86363636 0.93506494 0.58441558 0.74025974\n",
      " 0.87662338 0.94805195 0.5974026  0.79220779 0.8961039  0.94805195\n",
      " 0.62337662 0.83116883 0.92857143 0.96103896 0.63636364 0.82467532\n",
      " 0.92857143 0.96753247 0.66883117 0.82467532 0.93506494 0.98701299\n",
      " 0.4025974  0.45454545 0.80519481 0.8961039  0.4025974  0.64935065\n",
      " 0.84415584 0.94155844 0.44155844 0.65584416 0.85714286 0.94155844\n",
      " 0.47402597 0.69480519 0.86363636 0.94155844 0.5        0.74675325\n",
      " 0.88311688 0.94805195 0.52597403 0.79220779 0.90909091 0.95454545\n",
      " 0.55844156 0.7987013  0.92857143 0.96103896 0.6038961  0.81168831\n",
      " 0.92857143 0.96753247 0.57792208 0.7987013  0.93506494 0.98701299]\n"
     ]
    }
   ],
   "source": [
    "# initializing the hits list full of zeros\n",
    "hits = [0]*len(ray_dir)\n",
    "# setting the rays that had an intersection to 1\n",
    "for id in ray_id:\n",
    "    hits[id] = 1\n",
    "\n",
    "sun_count = len(sun_dirs)\n",
    "vox_count = len(vox_cens)\n",
    "# initiating the list of ratio\n",
    "vox_sun_acc = []\n",
    "# iterate over the voxels\n",
    "for v_id in range(vox_count):\n",
    "    # counter for the intersection\n",
    "    int_count = 0\n",
    "    # iterate over the sun rays\n",
    "    for s_id in range(sun_count):\n",
    "        # computing the ray id from voxel id and sun id\n",
    "        r_id = v_id * sun_count + s_id\n",
    "\n",
    "        # summing the intersections\n",
    "        int_count += hits[r_id]\n",
    "    \n",
    "    # computing the percentage of the rays that DID NOT have \n",
    "    # an intersection (aka could see the sun)\n",
    "    sun_access = 1.0 - int_count/sun_count\n",
    "\n",
    "    # add the ratio to list\n",
    "    vox_sun_acc.append(sun_access)\n",
    "\n",
    "\n",
    "hits = np.array(hits)\n",
    "vox_sun_acc = np.array(vox_sun_acc)\n",
    "\n",
    "print(vox_sun_acc)"
   ]
  },
  {
   "cell_type": "markdown",
   "metadata": {},
   "source": [
    "### 5.2. Store sun access information in a Lattice"
   ]
  },
  {
   "cell_type": "code",
   "execution_count": 13,
   "metadata": {
    "scrolled": true
   },
   "outputs": [
    {
     "name": "stdout",
     "output_type": "stream",
     "text": [
      "(15, 9, 4)\n"
     ]
    }
   ],
   "source": [
    "# getting the condition of all voxels: are they inside the envelop or not\n",
    "env_all_vox = full_lattice.flatten()\n",
    "\n",
    "# all voxels sun access\n",
    "all_vox_sun_acc = []\n",
    "\n",
    "# v_id: voxel id in the list of only interior voxels\n",
    "v_id = 0\n",
    "\n",
    "# for all the voxels, place the interiority condition of each voxel in \"vox_in\"\n",
    "for vox_in in env_all_vox:\n",
    "    # if the voxel was outside...\n",
    "    if vox_in == True:\n",
    "        # read its value of sun access and append it to the list of all voxel sun access\n",
    "        all_vox_sun_acc.append(vox_sun_acc[v_id])\n",
    "        # add one to the voxel id so the next time we read the next voxel\n",
    "        v_id += 1\n",
    "    # if the voxel was not inside... \n",
    "    else:\n",
    "        # add 0.0 for its sun access\n",
    "        all_vox_sun_acc.append(0.0)\n",
    "\n",
    "# convert to array\n",
    "sunacc_array = np.array(all_vox_sun_acc)\n",
    "\n",
    "# reshape to lattice shape\n",
    "sunacc_array = sunacc_array.reshape(envelope_lattice.shape)\n",
    "\n",
    "# convert to lattice\n",
    "sunacc_lattice = tg.to_lattice(sunacc_array, envelope_lattice)\n",
    "\n",
    "\n",
    "print(sunacc_lattice.shape)"
   ]
  },
  {
   "cell_type": "markdown",
   "metadata": {},
   "source": [
    "### 5.3. Visualize the sun access lattice"
   ]
  },
  {
   "cell_type": "code",
   "execution_count": 14,
   "metadata": {},
   "outputs": [
    {
     "data": {
      "application/vnd.jupyter.widget-view+json": {
       "model_id": "d11ada56a93449c8a3cacbbf1f69ca4f",
       "version_major": 2,
       "version_minor": 0
      },
      "text/plain": [
       "ViewInteractiveWidget(height=768, layout=Layout(height='auto', width='100%'), width=1024)"
      ]
     },
     "metadata": {},
     "output_type": "display_data"
    },
    {
     "data": {
      "text/plain": [
       "[(785.6075686833789, 708.1911636833788, 743.2184808333789),\n",
       " (65.08283250000001, -12.333572500000002, 22.69374465),\n",
       " (0.0, 0.0, 1.0)]"
      ]
     },
     "execution_count": 14,
     "metadata": {},
     "output_type": "execute_result"
    }
   ],
   "source": [
    "# initiating the plotter\n",
    "p = pv.Plotter(notebook=True)\n",
    "\n",
    "# Create the spatial reference\n",
    "grid = pv.UniformGrid()\n",
    "\n",
    "# Set the grid dimensions: shape because we want to inject our values\n",
    "grid.dimensions = sunacc_lattice.shape\n",
    "# The bottom left corner of the data set\n",
    "grid.origin = sunacc_lattice.minbound\n",
    "# These are the cell sizes along each axis\n",
    "grid.spacing = sunacc_lattice.unit\n",
    "\n",
    "# Add the data values to the cell data\n",
    "grid.point_arrays[\"Sun Access\"] = sunacc_lattice.flatten(order=\"F\")  # Flatten the Lattice\n",
    "\n",
    "# adding the meshes\n",
    "p.add_mesh(tri_to_pv(context_mesh), opacity=0.1, style='wireframe')\n",
    "    \n",
    "# adding the volume\n",
    "opacity = np.array([0,0.6,0.6,0.6,0.6,0.6,0.6])*1.5\n",
    "p.add_volume(grid, cmap=\"coolwarm\", clim=[0.5, 1.0],opacity=opacity, shade=True)\n",
    "\n",
    "# plotting\n",
    "p.show(use_ipyvtk=True)"
   ]
  },
  {
   "cell_type": "markdown",
   "metadata": {},
   "source": [
    "## 6. Save Sun Access Lattice into a CSV"
   ]
  },
  {
   "cell_type": "code",
   "execution_count": null,
   "metadata": {},
   "outputs": [],
   "source": [
    "# save the sun access latice to csv\n",
    "\n",
    "csv_path = os.path.relpath('../data/sun_access_lowres.csv')\n",
    "sunacc_lattice.to_csv(csv_path)"
   ]
  },
  {
   "cell_type": "code",
   "execution_count": 15,
   "metadata": {},
   "outputs": [],
   "source": [
    "from scipy.interpolate import RegularGridInterpolator"
   ]
  },
  {
   "cell_type": "code",
   "execution_count": 16,
   "metadata": {},
   "outputs": [
    {
     "name": "stdout",
     "output_type": "stream",
     "text": [
      "(43, 24, 11)\n"
     ]
    }
   ],
   "source": [
    "# loading the lattice from csv\n",
    "lattice_path = os.path.relpath('../data/voxelized_envelope_highres.csv')\n",
    "highres_env_lattice = tg.lattice_from_csv(lattice_path)\n",
    "print(highres_env_lattice.shape)"
   ]
  },
  {
   "cell_type": "code",
   "execution_count": 17,
   "metadata": {},
   "outputs": [],
   "source": [
    "def interpolate(low_sunacc_lattice, env_lattice):\n",
    "    # line spaces\n",
    "    x_space = np.linspace(low_sunacc_lattice.minbound[0], low_sunacc_lattice.maxbound[0],low_sunacc_lattice.shape[0])\n",
    "    y_space = np.linspace(low_sunacc_lattice.minbound[1], low_sunacc_lattice.maxbound[1],low_sunacc_lattice.shape[1])\n",
    "    z_space = np.linspace(low_sunacc_lattice.minbound[2], low_sunacc_lattice.maxbound[2],low_sunacc_lattice.shape[2])\n",
    "\n",
    "    # interpolation function\n",
    "    interpolating_function = RegularGridInterpolator((x_space, y_space, z_space), low_sunacc_lattice, bounds_error=False, fill_value=None)\n",
    "\n",
    "    # high_res lattice\n",
    "    full_lattice = env_lattice + 1\n",
    "\n",
    "    # sample points\n",
    "    sample_points = full_lattice.centroids\n",
    "\n",
    "    # interpolation\n",
    "    interpolated_values = interpolating_function(sample_points)\n",
    "\n",
    "    # lattice construction\n",
    "    sunacc_lattice = tg.to_lattice(interpolated_values.reshape(env_lattice.shape), env_lattice)\n",
    "\n",
    "    # nulling the unavailable cells\n",
    "    sunacc_lattice *= env_lattice\n",
    "    \n",
    "    return sunacc_lattice\n",
    "\n",
    "highres_sunacc_lattice = interpolate(sunacc_lattice,highres_env_lattice)"
   ]
  },
  {
   "cell_type": "code",
   "execution_count": 18,
   "metadata": {},
   "outputs": [
    {
     "data": {
      "application/vnd.jupyter.widget-view+json": {
       "model_id": "56c0b0b1765649859731dbaf8682f536",
       "version_major": 2,
       "version_minor": 0
      },
      "text/plain": [
       "ViewInteractiveWidget(height=768, layout=Layout(height='auto', width='100%'), width=1024)"
      ]
     },
     "metadata": {},
     "output_type": "display_data"
    },
    {
     "data": {
      "text/plain": [
       "[(232.42058333192392, 140.62058333192388, 214.4205833319239),\n",
       " (36.000000000000014, -55.800000000000004, 18.0),\n",
       " (0.0, 0.0, 1.0)]"
      ]
     },
     "execution_count": 18,
     "metadata": {},
     "output_type": "execute_result"
    }
   ],
   "source": [
    "# convert mesh to pv_mesh\n",
    "def tri_to_pv(tri_mesh):\n",
    "    faces = np.pad(tri_mesh.faces, ((0, 0),(1,0)), 'constant', constant_values=3)\n",
    "    pv_mesh = pv.PolyData(tri_mesh.vertices, faces)\n",
    "    return pv_mesh\n",
    "\n",
    "base_lattice = highres_sunacc_lattice\n",
    "# initiating the plotter\n",
    "p = pv.Plotter(notebook=True)\n",
    "\n",
    "# Create the spatial reference\n",
    "grid = pv.UniformGrid()\n",
    "\n",
    "# Set the grid dimensions: shape because we want to inject our values\n",
    "grid.dimensions = base_lattice.shape\n",
    "# The bottom left corner of the data set\n",
    "grid.origin = base_lattice.minbound\n",
    "# These are the cell sizes along each axis\n",
    "grid.spacing = base_lattice.unit\n",
    "\n",
    "# Add the data values to the cell data\n",
    "grid.point_arrays[\"Sun Access\"] = base_lattice.flatten(order=\"F\")  # Flatten the Lattice\n",
    "\n",
    "# adding the meshes\n",
    "# p.add_mesh(tri_to_pv(context_mesh), opacity=0.1, style='wireframe')\n",
    "    \n",
    "# adding the volume\n",
    "opacity = np.array([0,0.6,0.6,0.6,0.6,0.6,0.6])\n",
    "p.add_volume(grid, cmap=\"coolwarm\", clim=[0.5, 1.0],opacity=opacity, shade=True)\n",
    "\n",
    "# plotting\n",
    "p.show(use_ipyvtk=True)"
   ]
  },
  {
   "cell_type": "code",
   "execution_count": 21,
   "metadata": {},
   "outputs": [],
   "source": [
    "# save the sun access latice to csv\n",
    "csv_path = os.path.relpath('../data/sun_access_highres.csv')\n",
    "highres_sunacc_lattice.to_csv(csv_path)"
   ]
  },
  {
   "cell_type": "markdown",
   "metadata": {},
   "source": [
    "## 7. Envelope selection"
   ]
  },
  {
   "cell_type": "code",
   "execution_count": 22,
   "metadata": {},
   "outputs": [],
   "source": [
    "# extra import function\n",
    "def lattice_from_csv(file_path):\n",
    "    # read metadata\n",
    "    meta_df = pd.read_csv(file_path, nrows=3)\n",
    "\n",
    "    shape = np.array(meta_df['shape'])\n",
    "    unit = np.array(meta_df['unit'])\n",
    "    minbound = np.array(meta_df['minbound'])\n",
    "\n",
    "    # read lattice\n",
    "    lattice_df = pd.read_csv(file_path, skiprows=5)\n",
    "\n",
    "    # create the buffer\n",
    "    buffer = np.array(lattice_df['value']).reshape(shape)\n",
    "\n",
    "    # create the lattice\n",
    "    l = tg.to_lattice(buffer, minbound=minbound, unit=unit)\n",
    "\n",
    "    return l"
   ]
  },
  {
   "cell_type": "code",
   "execution_count": 36,
   "metadata": {},
   "outputs": [],
   "source": [
    "# loading the lattice from csv\n",
    "sun_acc_path = os.path.relpath('../data/sun_access_highres.csv')\n",
    "sun_acc_lattice = lattice_from_csv(sun_acc_path)"
   ]
  },
  {
   "cell_type": "markdown",
   "metadata": {},
   "source": [
    "### 7.1. Visualizing the selection"
   ]
  },
  {
   "cell_type": "code",
   "execution_count": 39,
   "metadata": {},
   "outputs": [
    {
     "data": {
      "application/vnd.jupyter.widget-view+json": {
       "model_id": "21ff870787304df8bf9bbf57cf6bada2",
       "version_major": 2,
       "version_minor": 0
      },
      "text/plain": [
       "ViewInteractiveWidget(height=768, layout=Layout(height='auto', width='100%'), width=1024)"
      ]
     },
     "metadata": {},
     "output_type": "display_data"
    },
    {
     "data": {
      "text/plain": [
       "[(228.98415194645204, 135.38414965763369, 209.184150444415),\n",
       " (36.00000190734863, -57.60000038146973, 16.200000405311584),\n",
       " (0.0, 0.0, 1.0)]"
      ]
     },
     "execution_count": 39,
     "metadata": {},
     "output_type": "execute_result"
    }
   ],
   "source": [
    "p = pv.Plotter(notebook=True)\n",
    "\n",
    "base_lattice = sun_acc_lattice\n",
    "\n",
    "# Set the grid dimensions: shape + 1 because we want to inject our values on the CELL data\n",
    "grid = pv.UniformGrid()\n",
    "grid.dimensions = np.array(base_lattice.shape) + 1\n",
    "# The bottom left corner of the data set\n",
    "grid.origin = base_lattice.minbound - base_lattice.unit * 0.5\n",
    "# These are the cell sizes along each axis\n",
    "grid.spacing = base_lattice.unit \n",
    "\n",
    "# adding the boundingbox wireframe\n",
    "#p.add_mesh(grid.outline(), color=\"grey\", label=\"Domain\")\n",
    "\n",
    "# adding the avilability lattice\n",
    "# init_avail_lattice.fast_vis(p)\n",
    "\n",
    "# adding axes\n",
    "#p.add_axes()\n",
    "#p.show_bounds(grid=\"back\", location=\"back\", color=\"#aaaaaa\")\n",
    "\n",
    "def create_mesh(value):\n",
    "\n",
    "    lattice = np.copy(sun_acc_lattice)\n",
    "    lattice[sun_acc_lattice < value] *= 0.0\n",
    "    # Add the data values to the cell data\n",
    "    grid.cell_arrays[\"Agents\"] = lattice.flatten(order=\"F\")  # Flatten the array!\n",
    "    # filtering the voxels\n",
    "    threshed = grid.threshold([0.001, 1.0])\n",
    "    # adding the voxels\n",
    "    p.add_mesh(threshed, name='sphere', show_edges=True, opacity=1.0, show_scalar_bar=False, clim=[0.0, 1.0])\n",
    "\n",
    "    return\n",
    "\n",
    "p.add_slider_widget(create_mesh, [0, 1], title='', value=0.0, event_type=\"always\", style=\"classic\", pointa=(0.1, 0.1), pointb=(0.9, 0.1))\n",
    "p.show(use_ipyvtk=True)"
   ]
  },
  {
   "cell_type": "markdown",
   "metadata": {},
   "source": [
    "### 7.2. Generating an envelope based on the selection"
   ]
  },
  {
   "cell_type": "code",
   "execution_count": 40,
   "metadata": {},
   "outputs": [],
   "source": [
    "#new_avail_lattice = sun_acc_lattice < threshold \n",
    "\n",
    "threshold = 0.551\n",
    "new_avail_lattice = sun_acc_lattice > threshold"
   ]
  },
  {
   "cell_type": "markdown",
   "metadata": {},
   "source": [
    "### 7.3. Visualize the new available lattice"
   ]
  },
  {
   "cell_type": "code",
   "execution_count": 41,
   "metadata": {},
   "outputs": [
    {
     "data": {
      "application/vnd.jupyter.widget-view+json": {
       "model_id": "1053775ee27746e08e07aa39b6d055ba",
       "version_major": 2,
       "version_minor": 0
      },
      "text/plain": [
       "ViewInteractiveWidget(height=768, layout=Layout(height='auto', width='100%'), width=1024)"
      ]
     },
     "metadata": {},
     "output_type": "display_data"
    },
    {
     "data": {
      "text/plain": [
       "[(238.60252434688636, 146.8025241561515, 220.6025239892585),\n",
       " (36.0, -55.80000019073486, 17.99999964237213),\n",
       " (0.0, 0.0, 1.0)]"
      ]
     },
     "execution_count": 41,
     "metadata": {},
     "output_type": "execute_result"
    }
   ],
   "source": [
    "p = pv.Plotter(notebook=True)\n",
    "\n",
    "# adding the avilability lattice\n",
    "new_avail_lattice.fast_vis(p)\n",
    "\n",
    "p.show(use_ipyvtk=True)"
   ]
  },
  {
   "cell_type": "markdown",
   "metadata": {},
   "source": [
    "### 7.4. Save new envelope to CSV"
   ]
  },
  {
   "cell_type": "code",
   "execution_count": 42,
   "metadata": {},
   "outputs": [],
   "source": [
    "csv_path = os.path.relpath('../data/envelope_highres_3.6.csv')\n",
    "new_avail_lattice.to_csv(csv_path)"
   ]
  },
  {
   "cell_type": "markdown",
   "metadata": {},
   "source": [
    "### 7.5. Low resolution selection"
   ]
  },
  {
   "cell_type": "code",
   "execution_count": 43,
   "metadata": {},
   "outputs": [],
   "source": [
    "# loading the lattice from csv\n",
    "sun_acc_path = os.path.relpath('../data/sun_access_lowres.csv')\n",
    "sun_acc_lattice = lattice_from_csv(sun_acc_path)"
   ]
  },
  {
   "cell_type": "code",
   "execution_count": 45,
   "metadata": {},
   "outputs": [],
   "source": [
    "#new_avail_lattice = sun_acc_lattice < threshold \n",
    "\n",
    "threshold = 0.551\n",
    "new_avail_lattice = sun_acc_lattice > threshold"
   ]
  },
  {
   "cell_type": "markdown",
   "metadata": {},
   "source": [
    "### 7.6. Low resolution visualise and save "
   ]
  },
  {
   "cell_type": "code",
   "execution_count": 46,
   "metadata": {},
   "outputs": [
    {
     "data": {
      "application/vnd.jupyter.widget-view+json": {
       "model_id": "b5281d6b1463429887c2ddd3c57b3d23",
       "version_major": 2,
       "version_minor": 0
      },
      "text/plain": [
       "ViewInteractiveWidget(height=768, layout=Layout(height='auto', width='100%'), width=1024)"
      ]
     },
     "metadata": {},
     "output_type": "display_data"
    },
    {
     "data": {
      "text/plain": [
       "[(248.55477740283163, 162.15477659220846, 232.35477544779928),\n",
       " (32.400001525878906, -53.99999928474426, 16.199999570846558),\n",
       " (0.0, 0.0, 1.0)]"
      ]
     },
     "execution_count": 46,
     "metadata": {},
     "output_type": "execute_result"
    }
   ],
   "source": [
    "p = pv.Plotter(notebook=True)\n",
    "\n",
    "# adding the avilability lattice\n",
    "new_avail_lattice.fast_vis(p)\n",
    "\n",
    "p.show(use_ipyvtk=True)"
   ]
  },
  {
   "cell_type": "code",
   "execution_count": 47,
   "metadata": {},
   "outputs": [],
   "source": [
    "csv_path = os.path.relpath('../data/envelope_lowres_10.8.csv')\n",
    "new_avail_lattice.to_csv(csv_path)"
   ]
  },
  {
   "cell_type": "markdown",
   "metadata": {},
   "source": [
    "### Credits"
   ]
  },
  {
   "cell_type": "code",
   "execution_count": null,
   "metadata": {},
   "outputs": [],
   "source": [
    "__author__ = \"Shervin Azadi and Pirouz Nourian\"\n",
    "__license__ = \"MIT\"\n",
    "__version__ = \"1.0\"\n",
    "__url__ = \"https://github.com/shervinazadi/spatial_computing_workshops\"\n",
    "__summary__ = \"Spatial Computing Design Studio Workshop on Solar Envelope\""
   ]
  }
 ],
 "metadata": {
  "kernelspec": {
   "display_name": "Python 3",
   "language": "python",
   "name": "python3"
  },
  "language_info": {
   "codemirror_mode": {
    "name": "ipython",
    "version": 3
   },
   "file_extension": ".py",
   "mimetype": "text/x-python",
   "name": "python",
   "nbconvert_exporter": "python",
   "pygments_lexer": "ipython3",
   "version": "3.8.4"
  }
 },
 "nbformat": 4,
 "nbformat_minor": 2
}