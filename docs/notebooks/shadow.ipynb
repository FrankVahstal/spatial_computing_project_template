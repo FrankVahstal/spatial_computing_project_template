{
 "cells": [
  {
   "cell_type": "markdown",
   "metadata": {},
   "source": [
    "# Shadow casting\n",
    "[More information on the shadow casting analysis](/A3_Massing/Process/Shadow%20analysis/Shadow%20analysis/)  \n"
   ]
  },
  {
   "source": [
    "## 0. Initialization\n",
    "Importing all necessary libraries and specifying the inputs"
   ],
   "cell_type": "markdown",
   "metadata": {}
  },
  {
   "cell_type": "code",
   "execution_count": 1,
   "metadata": {},
   "outputs": [],
   "source": [
    "import os\n",
    "import topogenesis as tg\n",
    "import pyvista as pv\n",
    "import trimesh as tm\n",
    "import numpy as np\n",
    "from ladybug.sunpath import Sunpath\n",
    "import pandas as pd"
   ]
  },
  {
   "cell_type": "markdown",
   "metadata": {},
   "source": [
    "## 1. Import Meshes (context + envelope)\n",
    "\n",
    "### 1.1. Load Meshes"
   ]
  },
  {
   "cell_type": "code",
   "execution_count": 2,
   "metadata": {},
   "outputs": [
    {
     "name": "stderr",
     "output_type": "stream",
     "text": [
      "faces have mixed data, using slow fallback!\n"
     ]
    },
    {
     "name": "stdout",
     "output_type": "stream",
     "text": [
      "True\n",
      "False\n"
     ]
    }
   ],
   "source": [
    "envelope_path = os.path.relpath('../data/envelope.obj')\n",
    "context_path = os.path.relpath('../data/context_with_park2.obj')\n",
    "\n",
    "# load the mesh from file\n",
    "envelope_mesh = tm.load(envelope_path)\n",
    "context_mesh = tm.load(context_path)\n",
    "\n",
    "# Check if the mesh is watertight\n",
    "print(envelope_mesh.is_watertight)\n",
    "print(context_mesh.is_watertight)"
   ]
  },
  {
   "cell_type": "markdown",
   "metadata": {},
   "source": [
    "### 1.2. Visualize Meshes (with pyvista)"
   ]
  },
  {
   "cell_type": "code",
   "execution_count": 3,
   "metadata": {},
   "outputs": [
    {
     "data": {
      "application/vnd.jupyter.widget-view+json": {
       "model_id": "f0fc3496870742c79f50cc053beca41a",
       "version_major": 2,
       "version_minor": 0
      },
      "text/plain": [
       "ViewInteractiveWidget(height=768, layout=Layout(height='auto', width='100%'), width=1024)"
      ]
     },
     "metadata": {},
     "output_type": "display_data"
    },
    {
     "data": {
      "text/plain": [
       "[(785.6075686833789, 708.1911636833788, 743.2184808333789),\n",
       " (65.08283250000001, -12.333572500000002, 22.69374465),\n",
       " (0.0, 0.0, 1.0)]"
      ]
     },
     "execution_count": 3,
     "metadata": {},
     "output_type": "execute_result"
    }
   ],
   "source": [
    "# convert mesh to pv_mesh\n",
    "def tri_to_pv(tri_mesh):\n",
    "    faces = np.pad(tri_mesh.faces, ((0, 0),(1,0)), 'constant', constant_values=3)\n",
    "    pv_mesh = pv.PolyData(tri_mesh.vertices, faces)\n",
    "    return pv_mesh\n",
    "\n",
    "# initiating the plotter\n",
    "p = pv.Plotter(notebook=True)\n",
    "\n",
    "# adding the meshes\n",
    "p.add_mesh(tri_to_pv(envelope_mesh), color='#abd8ff')\n",
    "p.add_mesh(tri_to_pv(context_mesh), color='#aaaaaa')\n",
    "\n",
    "# plotting\n",
    "p.show(use_ipyvtk=True)"
   ]
  },
  {
   "cell_type": "markdown",
   "metadata": {},
   "source": [
    "## 2. Import Lattice (envelope)\n",
    "\n",
    "### 2.1. Load the Envelope Lattice"
   ]
  },
  {
   "cell_type": "code",
   "execution_count": 4,
   "metadata": {},
   "outputs": [],
   "source": [
    "# loading the lattice from csv\n",
    "lattice_path = os.path.relpath('../data/envelope_lowres_10.8.csv')\n",
    "envelope_lattice = tg.lattice_from_csv(lattice_path)"
   ]
  },
  {
   "cell_type": "markdown",
   "metadata": {},
   "source": [
    "### 2.2. Visualize the Context Mesh + Envelope Lattice"
   ]
  },
  {
   "cell_type": "code",
   "execution_count": 5,
   "metadata": {},
   "outputs": [
    {
     "data": {
      "application/vnd.jupyter.widget-view+json": {
       "model_id": "33496d4e626548d6a525019764a96a0c",
       "version_major": 2,
       "version_minor": 0
      },
      "text/plain": [
       "ViewInteractiveWidget(height=768, layout=Layout(height='auto', width='100%'), width=1024)"
      ]
     },
     "metadata": {},
     "output_type": "display_data"
    },
    {
     "data": {
      "text/plain": [
       "[(786.0557649294859, 708.6393599294859, 740.9666770318022),\n",
       " (65.08283250000001, -12.333572500000002, 19.993744602316283),\n",
       " (0.0, 0.0, 1.0)]"
      ]
     },
     "execution_count": 5,
     "metadata": {},
     "output_type": "execute_result"
    }
   ],
   "source": [
    "# convert mesh to pv_mesh\n",
    "def tri_to_pv(tri_mesh):\n",
    "    faces = np.pad(tri_mesh.faces, ((0, 0),(1,0)), 'constant', constant_values=3)\n",
    "    pv_mesh = pv.PolyData(tri_mesh.vertices, faces)\n",
    "    return pv_mesh\n",
    "\n",
    "# initiating the plotter\n",
    "p = pv.Plotter(notebook=True)\n",
    "\n",
    "# fast visualization of the lattice\n",
    "envelope_lattice.fast_vis(p)\n",
    "\n",
    "# adding the meshes\n",
    "p.add_mesh(tri_to_pv(context_mesh), color='#aaaaaa')\n",
    "\n",
    "# plotting\n",
    "p.show(use_ipyvtk=True)"
   ]
  },
  {
   "cell_type": "markdown",
   "metadata": {},
   "source": [
    "## 3. Sun Vectors\n",
    "\n",
    "### 3.1. Compute Sun Vectors"
   ]
  },
  {
   "cell_type": "code",
   "execution_count": 6,
   "metadata": {
    "tags": []
   },
   "outputs": [
    {
     "name": "stdout",
     "output_type": "stream",
     "text": [
      "(154, 3)\n"
     ]
    }
   ],
   "source": [
    "# initiate sunpath\n",
    "sp = Sunpath(longitude=4.3571, latitude=52.0116)\n",
    "\n",
    "# define sun hours : A list of hours of the year for each sun vector\n",
    "# there are 8760 hours in a year, so the following integers refer to specific hours throughout the year\n",
    "hoys = []\n",
    "sun_vectors = []\n",
    "day_multiples = 30\n",
    "for d in range(365):\n",
    "    if d%day_multiples==0:\n",
    "        for h in range(24):\n",
    "            i = d*24 + h\n",
    "            # compute the sun object\n",
    "            sun = sp.calculate_sun_from_hoy(i)\n",
    "            # extract the sun vector\n",
    "            sun_vector = sun.sun_vector.to_array()\n",
    "            # apparantly, if the Z component of sun vector is positive, \n",
    "            # it is under the horizon \n",
    "            if sun_vector[2] < 0.0:\n",
    "                hoys.append(i)\n",
    "                sun_vectors.append(sun_vector)\n",
    "                \n",
    "sun_vectors = np.array(sun_vectors)\n",
    "# compute the rotation matrix \n",
    "Rz = tm.transformations.rotation_matrix(np.radians(36.324), [0,0,1])\n",
    "# Rotate the sun vectors to match the site rotation\n",
    "sun_vectors = tm.transform_points(sun_vectors, Rz)\n",
    "print(sun_vectors.shape)"
   ]
  },
  {
   "cell_type": "code",
   "execution_count": 7,
   "metadata": {},
   "outputs": [],
   "source": [
    "full_lattice = envelope_lattice * 0 + 1"
   ]
  },
  {
   "cell_type": "code",
   "execution_count": 8,
   "metadata": {
    "scrolled": true
   },
   "outputs": [
    {
     "data": {
      "application/vnd.jupyter.widget-view+json": {
       "model_id": "a8ede39cea534b8a8d358e7f2cd6e59b",
       "version_major": 2,
       "version_minor": 0
      },
      "text/plain": [
       "ViewInteractiveWidget(height=768, layout=Layout(height='auto', width='100%'), width=1024)"
      ]
     },
     "metadata": {},
     "output_type": "display_data"
    },
    {
     "data": {
      "text/plain": [
       "[(987.1796013214682, 980.6322311914033, 1113.9398701989232),\n",
       " (1.8922800195791183, -4.65509011048573, 128.65254889703414),\n",
       " (0.0, 0.0, 1.0)]"
      ]
     },
     "execution_count": 8,
     "metadata": {},
     "output_type": "execute_result"
    }
   ],
   "source": [
    "# convert mesh to pv_mesh\n",
    "def tri_to_pv(tri_mesh):\n",
    "    faces = np.pad(tri_mesh.faces, ((0, 0),(1,0)), 'constant', constant_values=3)\n",
    "    pv_mesh = pv.PolyData(tri_mesh.vertices, faces)\n",
    "    return pv_mesh\n",
    "\n",
    "# Visualize the mesh using pyvista plotter\n",
    "#######\n",
    "\n",
    "# initiating the plotter\n",
    "p = pv.Plotter(notebook=True)\n",
    "\n",
    "# fast visualization of the lattice\n",
    "full_lattice.fast_vis(p)\n",
    "\n",
    "# adding the meshes\n",
    "p.add_mesh(tri_to_pv(context_mesh), color='#aaaaaa')\n",
    "\n",
    "# add the sun locations, color orange\n",
    "p.add_points( - sun_vectors * 300, color='#ffa500')\n",
    "\n",
    "# plotting\n",
    "p.show(use_ipyvtk=True)"
   ]
  },
  {
   "cell_type": "markdown",
   "metadata": {},
   "source": [
    "## 4. Compute Intersection of Sun Rays with Context Mesh (other direction)\n",
    "\n",
    "### 4.1. Preparing the List of Ray Directions and Origins"
   ]
  },
  {
   "cell_type": "code",
   "execution_count": 9,
   "metadata": {},
   "outputs": [
    {
     "name": "stdout",
     "output_type": "stream",
     "text": [
      "number of voxels to shoot rays from : (540, 3)\n",
      "number of rays per each voxel : (154, 3)\n",
      "number of rays to be shooted : (83160, 3)\n"
     ]
    }
   ],
   "source": [
    "# constructing the sun direction (other direction) from the sun vectors in a numpy array\n",
    "sun_dirs = np.array(sun_vectors)\n",
    "# exract the centroids of the envelope voxels\n",
    "\n",
    "vox_cens = full_lattice.centroids\n",
    " \n",
    "ray_dir = []\n",
    "ray_src = []\n",
    "for v_cen in vox_cens:\n",
    "    for s_dir in sun_dirs:\n",
    "        ray_dir.append(s_dir)\n",
    "        ray_src.append(v_cen)\n",
    "# converting the list of directions and sources to numpy array\n",
    "ray_dir = np.array(ray_dir)\n",
    "ray_src = np.array(ray_src)\n",
    "\n",
    "print(\"number of voxels to shoot rays from :\",vox_cens.shape)\n",
    "print(\"number of rays per each voxel :\",sun_dirs.shape)\n",
    "print(\"number of rays to be shooted :\",ray_src.shape)"
   ]
  },
  {
   "cell_type": "markdown",
   "metadata": {},
   "source": [
    "### 4.2. Computing the Intersection"
   ]
  },
  {
   "cell_type": "code",
   "execution_count": 10,
   "metadata": {},
   "outputs": [],
   "source": [
    "# computing the intersections \n",
    "tri_id, ray_id = context_mesh.ray.intersects_id(ray_origins=ray_src, ray_directions=ray_dir, multiple_hits=False)"
   ]
  },
  {
   "cell_type": "markdown",
   "metadata": {},
   "source": [
    "## 5. Aggregate Simulation Result in the Shadow Casting Lattice\n",
    "\n",
    "### 5.1. Compute the percentage of time that each ray intersects a voxel "
   ]
  },
  {
   "cell_type": "code",
   "execution_count": 13,
   "metadata": {
    "tags": []
   },
   "outputs": [
    {
     "name": "stdout",
     "output_type": "stream",
     "text": [
      "[0.         0.21428571 0.36363636 0.43506494 0.         0.18181818\n",
      " 0.40909091 0.47402597 0.         0.21428571 0.42857143 0.53896104\n",
      " 0.         0.23376623 0.44805195 0.56493506 0.         0.25324675\n",
      " 0.5        0.57792208 0.         0.27272727 0.55194805 0.6038961\n",
      " 0.         0.2987013  0.61688312 0.62987013 0.         0.37662338\n",
      " 0.59090909 0.62337662 0.         0.3961039  0.56493506 0.58441558\n",
      " 0.         0.68831169 0.44155844 0.38961039 0.         0.17532468\n",
      " 0.32467532 0.38961039 0.         0.17532468 0.37662338 0.44155844\n",
      " 0.         0.18831169 0.4025974  0.5        0.         0.2012987\n",
      " 0.40909091 0.53246753 0.         0.22077922 0.47402597 0.55844156\n",
      " 0.         0.24025974 0.53896104 0.62987013 0.         0.43506494\n",
      " 0.58441558 0.63636364 0.         1.         0.57792208 0.57142857\n",
      " 0.         0.30519481 0.34415584 0.37662338 0.         0.22727273\n",
      " 0.34415584 0.37012987 0.         0.17532468 0.32467532 0.38961039\n",
      " 0.         0.17532468 0.33766234 0.41558442 0.         0.18831169\n",
      " 0.37012987 0.45454545 0.         0.22727273 0.3961039  0.52597403\n",
      " 0.         0.26623377 0.51298701 0.55844156 0.         0.47402597\n",
      " 0.62337662 0.62337662 0.         1.         0.74675325 0.57792208\n",
      " 0.         0.18181818 0.28571429 0.35714286 0.         0.17532468\n",
      " 0.31168831 0.38311688 0.         0.18181818 0.30519481 0.37662338\n",
      " 0.         0.16883117 0.33116883 0.38961039 0.         0.17532468\n",
      " 0.35714286 0.43506494 0.         0.19480519 0.40909091 0.49350649\n",
      " 0.         0.27272727 0.5        0.55844156 0.         0.46753247\n",
      " 0.64935065 0.62337662 0.         0.72077922 0.72727273 0.61688312\n",
      " 0.         0.17532468 0.27272727 0.36363636 0.         0.14935065\n",
      " 0.30519481 0.36363636 0.         0.14285714 0.31168831 0.37662338\n",
      " 0.         0.14935065 0.2987013  0.38311688 0.         0.14935065\n",
      " 0.35064935 0.4025974  0.         0.18181818 0.3961039  0.42207792\n",
      " 0.         0.26623377 0.48701299 0.53246753 0.         0.45454545\n",
      " 0.64935065 0.61688312 0.         0.83766234 0.67532468 0.64935065\n",
      " 0.         0.14935065 0.27272727 0.38961039 0.         0.14935065\n",
      " 0.27272727 0.35064935 0.         0.14285714 0.25974026 0.40909091\n",
      " 0.         0.12987013 0.2987013  0.4025974  0.         0.15584416\n",
      " 0.30519481 0.4025974  0.         0.16883117 0.37662338 0.43506494\n",
      " 0.         0.25324675 0.44155844 0.50649351 0.         0.38961039\n",
      " 0.58441558 0.61688312 0.         0.66883117 0.66883117 0.67532468\n",
      " 0.         0.15584416 0.30519481 0.40909091 0.         0.14285714\n",
      " 0.30519481 0.38311688 0.         0.15584416 0.27272727 0.4025974\n",
      " 0.         0.12987013 0.31168831 0.3961039  0.         0.13636364\n",
      " 0.33766234 0.40909091 0.         0.15584416 0.35714286 0.43506494\n",
      " 0.         0.22077922 0.44155844 0.55194805 0.         0.35714286\n",
      " 0.55194805 0.55844156 0.         0.53896104 0.65584416 0.61688312\n",
      " 0.         0.14285714 0.29220779 0.40909091 0.         0.12337662\n",
      " 0.29220779 0.38311688 0.         0.14285714 0.26623377 0.37662338\n",
      " 0.         0.12987013 0.31168831 0.37662338 0.         0.14935065\n",
      " 0.2987013  0.37662338 0.         0.14935065 0.33116883 0.40909091\n",
      " 0.         0.23376623 0.4025974  0.46103896 0.         0.35714286\n",
      " 0.51298701 0.53896104 0.         0.71428571 0.59090909 0.53896104\n",
      " 0.         0.14935065 0.28571429 0.38961039 0.         0.1038961\n",
      " 0.26623377 0.35064935 0.         0.11688312 0.25324675 0.38961039\n",
      " 0.         0.11688312 0.27272727 0.37012987 0.         0.13636364\n",
      " 0.29220779 0.38961039 0.         0.14935065 0.33766234 0.41558442\n",
      " 0.         0.20779221 0.36363636 0.44155844 0.         0.27922078\n",
      " 0.46753247 0.51948052 0.         0.42857143 0.55844156 0.57142857\n",
      " 0.         0.13636364 0.27272727 0.4025974  0.         0.11038961\n",
      " 0.25974026 0.35714286 0.         0.12337662 0.27922078 0.4025974\n",
      " 0.         0.11688312 0.26623377 0.38961039 0.         0.12337662\n",
      " 0.31168831 0.40909091 0.         0.12987013 0.34415584 0.44805195\n",
      " 0.         0.17532468 0.36363636 0.46103896 0.         0.23376623\n",
      " 0.42857143 0.5        0.         0.31168831 0.49350649 0.53896104\n",
      " 0.         0.14935065 0.25974026 0.41558442 0.         0.11688312\n",
      " 0.25974026 0.38961039 0.         0.11688312 0.26623377 0.4025974\n",
      " 0.         0.11038961 0.25974026 0.38961039 0.         0.12987013\n",
      " 0.28571429 0.4025974  0.         0.12987013 0.31818182 0.42857143\n",
      " 0.         0.14935065 0.35714286 0.46103896 0.         0.18831169\n",
      " 0.38961039 0.49350649 0.         0.24025974 0.48701299 0.54545455\n",
      " 0.         0.16883117 0.27272727 0.41558442 0.         0.13636364\n",
      " 0.25974026 0.37662338 0.         0.12987013 0.25974026 0.3961039\n",
      " 0.         0.11688312 0.25974026 0.3961039  0.         0.14285714\n",
      " 0.2987013  0.44155844 0.         0.14285714 0.32467532 0.40909091\n",
      " 0.         0.14285714 0.33116883 0.44155844 0.         0.18831169\n",
      " 0.40909091 0.46753247 0.         0.22727273 0.45454545 0.50649351\n",
      " 0.         0.18831169 0.2987013  0.38311688 0.         0.15584416\n",
      " 0.26623377 0.37662338 0.         0.14935065 0.27922078 0.41558442\n",
      " 0.         0.14285714 0.25324675 0.42207792 0.         0.15584416\n",
      " 0.28571429 0.40909091 0.         0.16233766 0.31168831 0.44805195\n",
      " 0.         0.17532468 0.33116883 0.45454545 0.         0.16883117\n",
      " 0.37662338 0.47402597 0.         0.22077922 0.44155844 0.46753247\n",
      " 0.         0.19480519 0.31818182 0.4025974  0.         0.16233766\n",
      " 0.29220779 0.40909091 0.         0.16233766 0.2987013  0.4025974\n",
      " 0.         0.14935065 0.28571429 0.4025974  0.         0.16233766\n",
      " 0.2987013  0.40909091 0.         0.16233766 0.31818182 0.43506494\n",
      " 0.         0.16883117 0.33116883 0.45454545 0.         0.16233766\n",
      " 0.4025974  0.47402597 0.         0.2012987  0.42857143 0.5\n",
      " 0.         0.33766234 0.37012987 0.3961039  0.         0.21428571\n",
      " 0.31168831 0.3961039  0.         0.19480519 0.31168831 0.4025974\n",
      " 0.         0.17532468 0.30519481 0.42207792 0.         0.17532468\n",
      " 0.27922078 0.44155844 0.         0.16883117 0.32467532 0.43506494\n",
      " 0.         0.17532468 0.35064935 0.44805195 0.         0.17532468\n",
      " 0.4025974  0.48051948 0.         0.20779221 0.41558442 0.50649351]\n"
     ]
    }
   ],
   "source": [
    "# initializing the hits list full of zeros\n",
    "hits = [0]*len(ray_dir)\n",
    "# setting the rays that had an intersection to 1\n",
    "for id in ray_id:\n",
    "    hits[id] = 1\n",
    "\n",
    "sun_count = len(sun_dirs)\n",
    "vox_count = len(vox_cens)\n",
    "# initiating the list of ratio\n",
    "vox_shadow_casting = []\n",
    "# iterate over the voxels\n",
    "for v_id in range(vox_count):\n",
    "    # counter for the intersection\n",
    "    int_count = 0\n",
    "    # iterate over the sun rays\n",
    "    for s_id in range(sun_count):\n",
    "        # computing the ray id from voxel id and sun id\n",
    "        r_id = v_id * sun_count + s_id\n",
    "\n",
    "        # summing the intersections\n",
    "        int_count += hits[r_id]\n",
    "    \n",
    "    # computing the percentage of the rays that DID NOT have \n",
    "    # an intersection\n",
    "    shadow_casting = int_count/sun_count\n",
    "\n",
    "    # add the ratio to list\n",
    "    vox_shadow_casting.append(shadow_casting)\n",
    "\n",
    "\n",
    "hits = np.array(hits)\n",
    "vox_shadow_casting = np.array(vox_shadow_casting)\n",
    "\n",
    "print(vox_shadow_casting)"
   ]
  },
  {
   "cell_type": "markdown",
   "metadata": {},
   "source": [
    "### 5.2. Store shadow casting information in a Lattice"
   ]
  },
  {
   "cell_type": "code",
   "execution_count": 14,
   "metadata": {
    "scrolled": true
   },
   "outputs": [
    {
     "name": "stdout",
     "output_type": "stream",
     "text": [
      "(15, 9, 4)\n"
     ]
    }
   ],
   "source": [
    "# getting the condition of all voxels: are they inside the envelop or not\n",
    "env_all_vox = full_lattice.flatten()\n",
    "\n",
    "# all voxels\n",
    "all_vox_shadow_casting = []\n",
    "\n",
    "# v_id: voxel id in the list of only interior voxels\n",
    "v_id = 0\n",
    "\n",
    "# for all the voxels, place the interiority condition of each voxel in \"vox_in\"\n",
    "for vox_in in env_all_vox:\n",
    "    # if the voxel was outside...\n",
    "    if vox_in == True:\n",
    "        # read its value of shadow casting and append it to the list of all voxel shadow casting\n",
    "        all_vox_shadow_casting.append(vox_shadow_casting[v_id])\n",
    "        # add one to the voxel id so the next time we read the next voxel\n",
    "        v_id += 1\n",
    "    # if the voxel was not inside... \n",
    "    else:\n",
    "        # add 0.0 for its shadow casting\n",
    "        all_vox_shadow_casting.append(0.0)\n",
    "\n",
    "# convert to array\n",
    "shadowcasting_array = np.array(all_vox_shadow_casting)\n",
    "\n",
    "# reshape to lattice shape\n",
    "shadowcasting_array = shadowcasting_array.reshape(envelope_lattice.shape)\n",
    "\n",
    "# convert to lattice\n",
    "shadowcasting_lattice = tg.to_lattice(shadowcasting_array, envelope_lattice)\n",
    "\n",
    "\n",
    "print(shadowcasting_lattice.shape)"
   ]
  },
  {
   "cell_type": "markdown",
   "metadata": {},
   "source": [
    "### 5.3. Visualize the shadow casting lattice"
   ]
  },
  {
   "cell_type": "code",
   "execution_count": 15,
   "metadata": {},
   "outputs": [
    {
     "data": {
      "application/vnd.jupyter.widget-view+json": {
       "model_id": "84e60ce394cf44a797137b77c56fd72f",
       "version_major": 2,
       "version_minor": 0
      },
      "text/plain": [
       "ViewInteractiveWidget(height=768, layout=Layout(height='auto', width='100%'), width=1024)"
      ]
     },
     "metadata": {},
     "output_type": "display_data"
    },
    {
     "data": {
      "text/plain": [
       "[(785.6075686833789, 708.1911636833788, 743.2184808333789),\n",
       " (65.08283250000001, -12.333572500000002, 22.69374465),\n",
       " (0.0, 0.0, 1.0)]"
      ]
     },
     "execution_count": 15,
     "metadata": {},
     "output_type": "execute_result"
    }
   ],
   "source": [
    "# initiating the plotter\n",
    "p = pv.Plotter(notebook=True)\n",
    "\n",
    "# Create the spatial reference\n",
    "grid = pv.UniformGrid()\n",
    "\n",
    "# Set the grid dimensions: shape because we want to inject our values\n",
    "grid.dimensions = shadowcasting_lattice.shape\n",
    "# The bottom left corner of the data set\n",
    "grid.origin = shadowcasting_lattice.minbound\n",
    "# These are the cell sizes along each axis\n",
    "grid.spacing = shadowcasting_lattice.unit\n",
    "\n",
    "# Add the data values to the cell data\n",
    "grid.point_arrays[\"Shadow Casting\"] = shadowcasting_lattice.flatten(order=\"F\")  # Flatten the Lattice\n",
    "\n",
    "# adding the meshes\n",
    "p.add_mesh(tri_to_pv(context_mesh), opacity=0.1, style='wireframe')\n",
    "    \n",
    "# adding the volume\n",
    "opacity = np.array([0,0.6,0.6,0.6,0.6,0.6,0.6])*1.5\n",
    "p.add_volume(grid, cmap=\"coolwarm\", clim=[0.5, 1.0],opacity=opacity, shade=True)\n",
    "\n",
    "# plotting|\n",
    "p.show(use_ipyvtk=True)"
   ]
  },
  {
   "cell_type": "markdown",
   "metadata": {},
   "source": [
    "## 6. Save Sun Access Lattice into a CSV"
   ]
  },
  {
   "cell_type": "code",
   "execution_count": 16,
   "metadata": {},
   "outputs": [],
   "source": [
    "# save the shadow casting latice to csv\n",
    "\n",
    "csv_path = os.path.relpath('../data/shadow_casting_lowres.csv')\n",
    "shadowcasting_lattice.to_csv(csv_path)"
   ]
  },
  {
   "cell_type": "code",
   "execution_count": 17,
   "metadata": {},
   "outputs": [],
   "source": [
    "from scipy.interpolate import RegularGridInterpolator"
   ]
  },
  {
   "cell_type": "code",
   "execution_count": 18,
   "metadata": {},
   "outputs": [
    {
     "name": "stdout",
     "output_type": "stream",
     "text": [
      "(43, 24, 11)\n"
     ]
    }
   ],
   "source": [
    "# loading the lattice from csv\n",
    "lattice_path = os.path.relpath('../data/envelope_highres_3.6.csv')\n",
    "highres_env_lattice = tg.lattice_from_csv(lattice_path)\n",
    "print(highres_env_lattice.shape)"
   ]
  },
  {
   "cell_type": "code",
   "execution_count": 19,
   "metadata": {},
   "outputs": [],
   "source": [
    "def interpolate(low_sunacc_lattice, env_lattice):\n",
    "    # line spaces\n",
    "    x_space = np.linspace(low_sunacc_lattice.minbound[0], low_sunacc_lattice.maxbound[0],low_sunacc_lattice.shape[0])\n",
    "    y_space = np.linspace(low_sunacc_lattice.minbound[1], low_sunacc_lattice.maxbound[1],low_sunacc_lattice.shape[1])\n",
    "    z_space = np.linspace(low_sunacc_lattice.minbound[2], low_sunacc_lattice.maxbound[2],low_sunacc_lattice.shape[2])\n",
    "\n",
    "    # interpolation function\n",
    "    interpolating_function = RegularGridInterpolator((x_space, y_space, z_space), low_sunacc_lattice, bounds_error=False, fill_value=None)\n",
    "\n",
    "    # high_res lattice\n",
    "    full_lattice = env_lattice + 1\n",
    "\n",
    "    # sample points\n",
    "    sample_points = full_lattice.centroids\n",
    "\n",
    "    # interpolation\n",
    "    interpolated_values = interpolating_function(sample_points)\n",
    "\n",
    "    # lattice construction\n",
    "    shadowcasting_lattice = tg.to_lattice(interpolated_values.reshape(env_lattice.shape), env_lattice)\n",
    "\n",
    "    # nulling the unavailable cells\n",
    "    shadowcasting_lattice *= env_lattice\n",
    "    \n",
    "    return shadowcasting_lattice\n",
    "\n",
    "highres_shadowcasting_lattice = interpolate(shadowcasting_lattice,highres_env_lattice)"
   ]
  },
  {
   "cell_type": "code",
   "execution_count": null,
   "metadata": {},
   "outputs": [],
   "source": [
    "# convert mesh to pv_mesh\n",
    "def tri_to_pv(tri_mesh):\n",
    "    faces = np.pad(tri_mesh.faces, ((0, 0),(1,0)), 'constant', constant_values=3)\n",
    "    pv_mesh = pv.PolyData(tri_mesh.vertices, faces)\n",
    "    return pv_mesh\n",
    "\n",
    "base_lattice = highres_shadowcasting_lattice\n",
    "# initiating the plotter\n",
    "p = pv.Plotter(notebook=True)\n",
    "\n",
    "# Create the spatial reference\n",
    "grid = pv.UniformGrid()\n",
    "\n",
    "# Set the grid dimensions: shape because we want to inject our values\n",
    "grid.dimensions = base_lattice.shape\n",
    "# The bottom left corner of the data set\n",
    "grid.origin = base_lattice.minbound\n",
    "# These are the cell sizes along each axis\n",
    "grid.spacing = base_lattice.unit\n",
    "\n",
    "# Add the data values to the cell data\n",
    "grid.point_arrays[\"Shadow Casting\"] = base_lattice.flatten(order=\"F\")  # Flatten the Lattice\n",
    "\n",
    "# adding the meshes\n",
    "# p.add_mesh(tri_to_pv(context_mesh), opacity=0.1, style='wireframe')\n",
    "    \n",
    "# adding the volume\n",
    "opacity = np.array([0,0.6,0.6,0.6,0.6,0.6,0.6])\n",
    "p.add_volume(grid, cmap=\"coolwarm\", clim=[0.5, 1.0],opacity=opacity, shade=True)\n",
    "\n",
    "# plotting\n",
    "p.show(use_ipyvtk=True)"
   ]
  },
  {
   "cell_type": "code",
   "execution_count": 20,
   "metadata": {},
   "outputs": [],
   "source": [
    "# save the shadow casting latice to csv\n",
    "csv_path = os.path.relpath('../data/shadow_casting_highres.csv')\n",
    "highres_shadowcasting_lattice.to_csv(csv_path)"
   ]
  },
  {
   "cell_type": "markdown",
   "metadata": {},
   "source": [
    "## 7. Envelope selection"
   ]
  },
  {
   "cell_type": "code",
   "execution_count": 21,
   "metadata": {},
   "outputs": [],
   "source": [
    "# extra import function\n",
    "def lattice_from_csv(file_path):\n",
    "    # read metadata\n",
    "    meta_df = pd.read_csv(file_path, nrows=3)\n",
    "\n",
    "    shape = np.array(meta_df['shape'])\n",
    "    unit = np.array(meta_df['unit'])\n",
    "    minbound = np.array(meta_df['minbound'])\n",
    "\n",
    "    # read lattice\n",
    "    lattice_df = pd.read_csv(file_path, skiprows=5)\n",
    "\n",
    "    # create the buffer\n",
    "    buffer = np.array(lattice_df['value']).reshape(shape)\n",
    "\n",
    "    # create the lattice\n",
    "    l = tg.to_lattice(buffer, minbound=minbound, unit=unit)\n",
    "\n",
    "    return l"
   ]
  },
  {
   "cell_type": "code",
   "execution_count": 22,
   "metadata": {},
   "outputs": [],
   "source": [
    "# loading the lattice from csv\n",
    "shadow_casting_path = os.path.relpath('../data/shadow_casting_highres.csv')\n",
    "shadow_casting_lattice = lattice_from_csv(shadow_casting_path)"
   ]
  },
  {
   "cell_type": "markdown",
   "metadata": {},
   "source": [
    "### 7.1. Visualizing the selection"
   ]
  },
  {
   "cell_type": "code",
   "execution_count": 23,
   "metadata": {},
   "outputs": [
    {
     "data": {
      "application/vnd.jupyter.widget-view+json": {
       "model_id": "2e05c201e7034884a27b7943ea9a4c22",
       "version_major": 2,
       "version_minor": 0
      },
      "text/plain": [
       "ViewInteractiveWidget(height=768, layout=Layout(height='auto', width='100%'), width=1024)"
      ]
     },
     "metadata": {},
     "output_type": "display_data"
    },
    {
     "data": {
      "text/plain": [
       "[(228.1888554793267, 134.58885319050833, 210.18885392960593),\n",
       " (36.00000190734863, -57.60000038146973, 18.00000035762787),\n",
       " (0.0, 0.0, 1.0)]"
      ]
     },
     "execution_count": 23,
     "metadata": {},
     "output_type": "execute_result"
    }
   ],
   "source": [
    "p = pv.Plotter(notebook=True)\n",
    "\n",
    "base_lattice = shadow_casting_lattice\n",
    "\n",
    "# Set the grid dimensions: shape + 1 because we want to inject our values on the CELL data\n",
    "grid = pv.UniformGrid()\n",
    "grid.dimensions = np.array(base_lattice.shape) + 1\n",
    "# The bottom left corner of the data set\n",
    "grid.origin = base_lattice.minbound - base_lattice.unit * 0.5\n",
    "# These are the cell sizes along each axis\n",
    "grid.spacing = base_lattice.unit \n",
    "\n",
    "def create_mesh(value):\n",
    "\n",
    "    lattice = np.copy(shadow_casting_lattice)\n",
    "    lattice[shadow_casting_lattice > value] *= 0.0\n",
    "    # Add the data values to the cell data\n",
    "    grid.cell_arrays[\"Agents\"] = lattice.flatten(order=\"F\")  # Flatten the array!\n",
    "    # filtering the voxels\n",
    "    threshed = grid.threshold([0.001, 1.0])\n",
    "    # adding the voxels\n",
    "    p.add_mesh(threshed, name='sphere', show_edges=True, opacity=1.0, show_scalar_bar=False, clim=[0.0, 1.0])\n",
    "\n",
    "    return\n",
    "\n",
    "p.add_slider_widget(create_mesh, [0, 1], title='', value=1.0, event_type=\"always\", style=\"classic\", pointa=(0.1, 0.1), pointb=(0.9, 0.1))\n",
    "p.show(use_ipyvtk=True)"
   ]
  },
  {
   "cell_type": "markdown",
   "metadata": {},
   "source": [
    "### 7.2. Generating an envelope based on the selection"
   ]
  },
  {
   "cell_type": "code",
   "execution_count": null,
   "metadata": {},
   "outputs": [],
   "source": [
    "#threshed = grid.threshold([0.001, 1.0])\n",
    "#new_avail_lattice = shadow_casting_lattice < threshold \n",
    "\n",
    "lower_bound = 0.01\n",
    "upper_bound = 0.45\n",
    "lower_condition = shadow_casting_lattice > lower_bound\n",
    "upper_condition = shadow_casting_lattice < upper_bound\n",
    "new_avail_lattice = lower_condition * upper_condition"
   ]
  },
  {
   "cell_type": "markdown",
   "metadata": {},
   "source": [
    "### 7.3. Visualize the new available lattice"
   ]
  },
  {
   "cell_type": "code",
   "execution_count": null,
   "metadata": {},
   "outputs": [],
   "source": [
    "p = pv.Plotter(notebook=True)\n",
    "\n",
    "# adding the avilability lattice\n",
    "new_avail_lattice.fast_vis(p)\n",
    "\n",
    "p.show(use_ipyvtk=True)"
   ]
  },
  {
   "cell_type": "markdown",
   "metadata": {},
   "source": [
    "### 7.4. Save new envelope to CSV"
   ]
  },
  {
   "cell_type": "code",
   "execution_count": null,
   "metadata": {},
   "outputs": [],
   "source": [
    "csv_path = os.path.relpath('../data/envelope_highres_3.6_shadow.csv')\n",
    "new_avail_lattice.to_csv(csv_path)"
   ]
  },
  {
   "cell_type": "markdown",
   "metadata": {},
   "source": [
    "### 7.5. Low resolution selection"
   ]
  },
  {
   "cell_type": "code",
   "execution_count": null,
   "metadata": {},
   "outputs": [],
   "source": [
    "# loading the lattice from csv\n",
    "shadow_casting_path = os.path.relpath('../data/shadow_casting_lowres.csv')\n",
    "shadow_casting_lattice = lattice_from_csv(shadow_casting_path)"
   ]
  },
  {
   "cell_type": "code",
   "execution_count": null,
   "metadata": {},
   "outputs": [],
   "source": [
    "#threshed = grid.threshold([0.001, 1.0])\n",
    "#new_avail_lattice = shadow_casting_lattice < threshold \n",
    "\n",
    "lower_bound = 0.01\n",
    "upper_bound = 0.45\n",
    "lower_condition = shadow_casting_lattice > lower_bound\n",
    "upper_condition = shadow_casting_lattice < upper_bound\n",
    "new_avail_lattice = lower_condition * upper_condition"
   ]
  },
  {
   "cell_type": "markdown",
   "metadata": {},
   "source": [
    "### 7.6. Low resolution visualise and save "
   ]
  },
  {
   "cell_type": "code",
   "execution_count": null,
   "metadata": {},
   "outputs": [],
   "source": [
    "p = pv.Plotter(notebook=True)\n",
    "\n",
    "# adding the avilability lattice\n",
    "new_avail_lattice.fast_vis(p)\n",
    "\n",
    "p.show(use_ipyvtk=True)"
   ]
  },
  {
   "cell_type": "code",
   "execution_count": null,
   "metadata": {},
   "outputs": [],
   "source": [
    "csv_path = os.path.relpath('../data/envelope_lowres_10.8_shadow.csv')\n",
    "new_avail_lattice.to_csv(csv_path)"
   ]
  },
  {
   "cell_type": "markdown",
   "metadata": {},
   "source": [
    "### Credits"
   ]
  },
  {
   "cell_type": "code",
   "execution_count": null,
   "metadata": {},
   "outputs": [],
   "source": [
    "__author__ = \"Shervin Azadi and Pirouz Nourian\"\n",
    "__license__ = \"MIT\"\n",
    "__version__ = \"1.0\"\n",
    "__url__ = \"https://github.com/shervinazadi/spatial_computing_workshops\"\n",
    "__summary__ = \"Spatial Computing Design Studio Workshop on Solar Envelope\""
   ]
  }
 ],
 "metadata": {
  "kernelspec": {
   "display_name": "Python 3",
   "language": "python",
   "name": "python3"
  },
  "language_info": {
   "codemirror_mode": {
    "name": "ipython",
    "version": 3
   },
   "file_extension": ".py",
   "mimetype": "text/x-python",
   "name": "python",
   "nbconvert_exporter": "python",
   "pygments_lexer": "ipython3",
   "version": "3.8.4"
  }
 },
 "nbformat": 4,
 "nbformat_minor": 2
}